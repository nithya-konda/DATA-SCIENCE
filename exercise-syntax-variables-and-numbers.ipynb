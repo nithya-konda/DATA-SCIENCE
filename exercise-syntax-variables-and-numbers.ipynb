{
 "cells": [
  {
   "cell_type": "markdown",
   "id": "1ae8ccd5",
   "metadata": {
    "papermill": {
     "duration": 0.032643,
     "end_time": "2022-04-25T18:49:16.688204",
     "exception": false,
     "start_time": "2022-04-25T18:49:16.655561",
     "status": "completed"
    },
    "tags": []
   },
   "source": [
    "**This notebook is an exercise in the [Python](https://www.kaggle.com/learn/python) course.  You can reference the tutorial at [this link](https://www.kaggle.com/colinmorris/hello-python).**\n",
    "\n",
    "---\n"
   ]
  },
  {
   "cell_type": "markdown",
   "id": "e7b4b364",
   "metadata": {
    "papermill": {
     "duration": 0.031127,
     "end_time": "2022-04-25T18:49:16.751034",
     "exception": false,
     "start_time": "2022-04-25T18:49:16.719907",
     "status": "completed"
    },
    "tags": []
   },
   "source": [
    "Welcome to your first set of Python coding problems.  If this is your first time using Kaggle Notebooks, welcome! \n",
    "\n",
    "Notebooks are composed of blocks (called \"cells\") of text and code. Each of these is editable, though you'll mainly be editing the code cells to answer some questions.\n",
    "\n",
    "To get started, try running the code cell below (by pressing the ► button, or clicking on the cell and pressing ctrl+enter on your keyboard)."
   ]
  },
  {
   "cell_type": "code",
   "execution_count": null,
   "id": "2f1ba07a",
   "metadata": {
    "papermill": {
     "duration": 0.031804,
     "end_time": "2022-04-25T18:49:16.814490",
     "exception": false,
     "start_time": "2022-04-25T18:49:16.782686",
     "status": "completed"
    },
    "tags": []
   },
   "outputs": [],
   "source": []
  },
  {
   "cell_type": "code",
   "execution_count": 1,
   "id": "682325f6",
   "metadata": {
    "execution": {
     "iopub.execute_input": "2022-04-25T18:49:16.880177Z",
     "iopub.status.busy": "2022-04-25T18:49:16.879646Z",
     "iopub.status.idle": "2022-04-25T18:49:16.892637Z",
     "shell.execute_reply": "2022-04-25T18:49:16.891818Z"
    },
    "papermill": {
     "duration": 0.048109,
     "end_time": "2022-04-25T18:49:16.894514",
     "exception": false,
     "start_time": "2022-04-25T18:49:16.846405",
     "status": "completed"
    },
    "tags": []
   },
   "outputs": [
    {
     "name": "stdout",
     "output_type": "stream",
     "text": [
      "You've successfully run some Python code\n",
      "Congratulations!\n"
     ]
    }
   ],
   "source": [
    "print(\"You've successfully run some Python code\")\n",
    "print(\"Congratulations!\")\n"
   ]
  },
  {
   "cell_type": "code",
   "execution_count": null,
   "id": "73268b91",
   "metadata": {
    "papermill": {
     "duration": 0.021029,
     "end_time": "2022-04-25T18:49:16.941265",
     "exception": false,
     "start_time": "2022-04-25T18:49:16.920236",
     "status": "completed"
    },
    "tags": []
   },
   "outputs": [],
   "source": []
  },
  {
   "cell_type": "markdown",
   "id": "22c6b8f6",
   "metadata": {
    "papermill": {
     "duration": 0.023539,
     "end_time": "2022-04-25T18:49:16.986080",
     "exception": false,
     "start_time": "2022-04-25T18:49:16.962541",
     "status": "completed"
    },
    "tags": []
   },
   "source": [
    "Try adding another line of code in the cell above and re-running it. \n",
    "\n",
    "Now let's get a little fancier:  Add a new code cell by clicking on an existing code cell, hitting the escape key, and then hitting the `a` or `b` key.  The `a` key will add a cell above the current cell, and `b` adds a cell below.\n",
    "\n",
    "Great! Now you know how to use Notebooks.\n",
    "\n",
    "Each hands-on exercise starts by setting up our feedback and code checking mechanism. Run the code cell below to do that. Then you'll be ready to move on to question 0."
   ]
  },
  {
   "cell_type": "code",
   "execution_count": 2,
   "id": "9693ea5c",
   "metadata": {
    "_kg_hide-input": true,
    "_kg_hide-output": true,
    "execution": {
     "iopub.execute_input": "2022-04-25T18:49:17.044081Z",
     "iopub.status.busy": "2022-04-25T18:49:17.043388Z",
     "iopub.status.idle": "2022-04-25T18:49:17.090857Z",
     "shell.execute_reply": "2022-04-25T18:49:17.090268Z"
    },
    "papermill": {
     "duration": 0.078985,
     "end_time": "2022-04-25T18:49:17.092672",
     "exception": false,
     "start_time": "2022-04-25T18:49:17.013687",
     "status": "completed"
    },
    "tags": []
   },
   "outputs": [
    {
     "name": "stdout",
     "output_type": "stream",
     "text": [
      "Setup complete! You're ready to start question 0.\n"
     ]
    }
   ],
   "source": [
    "from learntools.core import binder; binder.bind(globals())\n",
    "from learntools.python.ex1 import *\n",
    "print(\"Setup complete! You're ready to start question 0.\")"
   ]
  },
  {
   "cell_type": "markdown",
   "id": "c2c61814",
   "metadata": {
    "papermill": {
     "duration": 0.025007,
     "end_time": "2022-04-25T18:49:17.143220",
     "exception": false,
     "start_time": "2022-04-25T18:49:17.118213",
     "status": "completed"
    },
    "tags": []
   },
   "source": [
    "# 0.\n",
    "\n",
    "*This is a silly question intended as an introduction to the format we use for hands-on exercises throughout all Kaggle courses.*\n",
    "\n",
    "**What is your favorite color? **\n",
    "\n",
    "To complete this question, create a variable called `color` in the cell below with an appropriate value. The function call `q0.check()` (which we've already provided in the cell below) will check your answer."
   ]
  },
  {
   "cell_type": "code",
   "execution_count": 3,
   "id": "9f7a4a7d",
   "metadata": {
    "execution": {
     "iopub.execute_input": "2022-04-25T18:49:17.188065Z",
     "iopub.status.busy": "2022-04-25T18:49:17.187346Z",
     "iopub.status.idle": "2022-04-25T18:49:17.197474Z",
     "shell.execute_reply": "2022-04-25T18:49:17.197016Z"
    },
    "papermill": {
     "duration": 0.034794,
     "end_time": "2022-04-25T18:49:17.199327",
     "exception": false,
     "start_time": "2022-04-25T18:49:17.164533",
     "status": "completed"
    },
    "tags": []
   },
   "outputs": [
    {
     "data": {
      "application/javascript": [
       "parent.postMessage({\"jupyterEvent\": \"custom.exercise_interaction\", \"data\": {\"outcomeType\": 4, \"interactionType\": 1, \"questionType\": 2, \"questionId\": \"0_ExerciseFormatTutorial\", \"learnToolsVersion\": \"0.3.4\", \"valueTowardsCompletion\": 0.0, \"failureMessage\": \"\", \"exceptionClass\": \"\", \"trace\": \"\"}}, \"*\")"
      ],
      "text/plain": [
       "<IPython.core.display.Javascript object>"
      ]
     },
     "metadata": {},
     "output_type": "display_data"
    },
    {
     "data": {
      "text/markdown": [
       "<span style=\"color:#ccaa33\">Check:</span> When you've updated the starter code, `check()` will tell you whether your code is correct. Remember, you must create the following variable: `color`"
      ],
      "text/plain": [
       "Check: When you've updated the starter code, `check()` will tell you whether your code is correct. Remember, you must create the following variable: `color`"
      ]
     },
     "metadata": {},
     "output_type": "display_data"
    }
   ],
   "source": [
    "from learntools.core import binder; binder.bind(globals())\n",
    "from learntools.python.ex1 import *\n",
    "#create a variable called color with an appropriate value on the line below\n",
    "#(Remember, strings in Python must be enclosed in 'single' or \"double\" quotes)\n",
    "____color = 'blue'\n",
    "\n",
    "# Check your answer\n",
    "q0.check()"
   ]
  },
  {
   "cell_type": "markdown",
   "id": "1dbc24bc",
   "metadata": {
    "papermill": {
     "duration": 0.024508,
     "end_time": "2022-04-25T18:49:17.250206",
     "exception": false,
     "start_time": "2022-04-25T18:49:17.225698",
     "status": "completed"
    },
    "tags": []
   },
   "source": [
    "Didn't get the right answer? How do you not even know your own favorite color?!\n",
    "\n",
    "Delete the `#` in the line below to make one of the lines run. You can choose between getting a hint or the full answer by choosing which line to remove the `#` from. \n",
    "\n",
    "Removing the `#` is called uncommenting, because it changes that line from a \"comment\" which Python doesn't run to code, which Python does run."
   ]
  },
  {
   "cell_type": "code",
   "execution_count": 4,
   "id": "2a09fac8",
   "metadata": {
    "execution": {
     "iopub.execute_input": "2022-04-25T18:49:17.297419Z",
     "iopub.status.busy": "2022-04-25T18:49:17.297037Z",
     "iopub.status.idle": "2022-04-25T18:49:17.299584Z",
     "shell.execute_reply": "2022-04-25T18:49:17.299068Z"
    },
    "papermill": {
     "duration": 0.027873,
     "end_time": "2022-04-25T18:49:17.301078",
     "exception": false,
     "start_time": "2022-04-25T18:49:17.273205",
     "status": "completed"
    },
    "tags": []
   },
   "outputs": [],
   "source": [
    "#q0.hint()\n",
    "#q0.solution()"
   ]
  },
  {
   "cell_type": "markdown",
   "id": "022d3fe0",
   "metadata": {
    "papermill": {
     "duration": 0.032983,
     "end_time": "2022-04-25T18:49:17.357075",
     "exception": false,
     "start_time": "2022-04-25T18:49:17.324092",
     "status": "completed"
    },
    "tags": []
   },
   "source": [
    "The upcoming questions work the same way. The only thing that will change are the question numbers. For the next question, you'll call `q1.check()`, `q1.hint()`, `q1.solution()`, for question 2, you'll call `q2.check()`, and so on."
   ]
  },
  {
   "cell_type": "markdown",
   "id": "49dec9bb",
   "metadata": {
    "papermill": {
     "duration": 0.036363,
     "end_time": "2022-04-25T18:49:17.432899",
     "exception": false,
     "start_time": "2022-04-25T18:49:17.396536",
     "status": "completed"
    },
    "tags": []
   },
   "source": [
    "<hr/>\n",
    "\n",
    "# 1.\n",
    "\n",
    "Complete the code below. In case it's helpful, here is the table of available arithmetic operations:\n",
    "\n",
    "\n",
    "\n",
    "| Operator     | Name           | Description                                            |\n",
    "|--------------|----------------|--------------------------------------------------------|\n",
    "| ``a + b``    | Addition       | Sum of ``a`` and ``b``                                 |\n",
    "| ``a - b``    | Subtraction    | Difference of ``a`` and ``b``                          |\n",
    "| ``a * b``    | Multiplication | Product of ``a`` and ``b``                             |\n",
    "| ``a / b``    | True division  | Quotient of ``a`` and ``b``                            |\n",
    "| ``a // b``   | Floor division | Quotient of ``a`` and ``b``, removing fractional parts |\n",
    "| ``a % b``    | Modulus        | Integer remainder after division of ``a`` by ``b``     |\n",
    "| ``a ** b``   | Exponentiation | ``a`` raised to the power of ``b``                     |\n",
    "| ``-a``       | Negation       | The negative of ``a``                                  |\n",
    "\n",
    "<span style=\"display:none\"></span>\n"
   ]
  },
  {
   "cell_type": "code",
   "execution_count": 5,
   "id": "7e2b41ab",
   "metadata": {
    "execution": {
     "iopub.execute_input": "2022-04-25T18:49:17.481429Z",
     "iopub.status.busy": "2022-04-25T18:49:17.481067Z",
     "iopub.status.idle": "2022-04-25T18:49:17.489014Z",
     "shell.execute_reply": "2022-04-25T18:49:17.488274Z"
    },
    "papermill": {
     "duration": 0.034193,
     "end_time": "2022-04-25T18:49:17.490686",
     "exception": false,
     "start_time": "2022-04-25T18:49:17.456493",
     "status": "completed"
    },
    "tags": []
   },
   "outputs": [
    {
     "data": {
      "application/javascript": [
       "parent.postMessage({\"jupyterEvent\": \"custom.exercise_interaction\", \"data\": {\"outcomeType\": 1, \"valueTowardsCompletion\": 0.25, \"interactionType\": 1, \"questionType\": 1, \"questionId\": \"1_CircleArea\", \"learnToolsVersion\": \"0.3.4\", \"failureMessage\": \"\", \"exceptionClass\": \"\", \"trace\": \"\"}}, \"*\")"
      ],
      "text/plain": [
       "<IPython.core.display.Javascript object>"
      ]
     },
     "metadata": {},
     "output_type": "display_data"
    },
    {
     "data": {
      "text/markdown": [
       "<span style=\"color:#33cc33\">Correct</span>"
      ],
      "text/plain": [
       "Correct"
      ]
     },
     "metadata": {},
     "output_type": "display_data"
    }
   ],
   "source": [
    "from learntools.core import binder; binder.bind(globals())\n",
    "from learntools.python.ex1 import *\n",
    "pi = 3.14159 # approximate\n",
    "diameter = 3\n",
    "radius = 0.5*diameter\n",
    "# Create a variable called 'radius' equal to half the diameter\n",
    "\n",
    "# Create a variable called 'area', using the formula for the area of a circle: pi times the radius squared\n",
    "area = pi*radius**2\n",
    "\n",
    "# Check your answer\n",
    "q1.check()"
   ]
  },
  {
   "cell_type": "code",
   "execution_count": 6,
   "id": "7a4060da",
   "metadata": {
    "execution": {
     "iopub.execute_input": "2022-04-25T18:49:17.539252Z",
     "iopub.status.busy": "2022-04-25T18:49:17.538999Z",
     "iopub.status.idle": "2022-04-25T18:49:17.542666Z",
     "shell.execute_reply": "2022-04-25T18:49:17.541914Z"
    },
    "papermill": {
     "duration": 0.029929,
     "end_time": "2022-04-25T18:49:17.544219",
     "exception": false,
     "start_time": "2022-04-25T18:49:17.514290",
     "status": "completed"
    },
    "tags": []
   },
   "outputs": [],
   "source": [
    "# Uncomment and run the lines below if you need help.\n",
    "#q1.hint()\n",
    "#q1.solution()"
   ]
  },
  {
   "cell_type": "markdown",
   "id": "8001b8d4",
   "metadata": {
    "papermill": {
     "duration": 0.023232,
     "end_time": "2022-04-25T18:49:17.590951",
     "exception": false,
     "start_time": "2022-04-25T18:49:17.567719",
     "status": "completed"
    },
    "tags": []
   },
   "source": [
    "<hr/>\n",
    "\n",
    "# 2.\n",
    "\n",
    "Add code to the following cell to swap variables `a` and `b` (so that `a` refers to the object previously referred to by `b` and vice versa)."
   ]
  },
  {
   "cell_type": "code",
   "execution_count": 7,
   "id": "9ea14b8f",
   "metadata": {
    "execution": {
     "iopub.execute_input": "2022-04-25T18:49:17.643268Z",
     "iopub.status.busy": "2022-04-25T18:49:17.642415Z",
     "iopub.status.idle": "2022-04-25T18:49:17.652892Z",
     "shell.execute_reply": "2022-04-25T18:49:17.652331Z"
    },
    "papermill": {
     "duration": 0.039864,
     "end_time": "2022-04-25T18:49:17.654911",
     "exception": false,
     "start_time": "2022-04-25T18:49:17.615047",
     "status": "completed"
    },
    "tags": []
   },
   "outputs": [
    {
     "data": {
      "application/javascript": [
       "parent.postMessage({\"jupyterEvent\": \"custom.exercise_interaction\", \"data\": {\"outcomeType\": 1, \"valueTowardsCompletion\": 0.25, \"interactionType\": 1, \"questionType\": 2, \"questionId\": \"2_VariableSwap\", \"learnToolsVersion\": \"0.3.4\", \"failureMessage\": \"\", \"exceptionClass\": \"\", \"trace\": \"\"}}, \"*\")"
      ],
      "text/plain": [
       "<IPython.core.display.Javascript object>"
      ]
     },
     "metadata": {},
     "output_type": "display_data"
    },
    {
     "data": {
      "text/markdown": [
       "<span style=\"color:#33cc33\">Correct:</span> \n",
       "\n",
       "The most straightforward solution is to use a third variable to temporarily store one of the old values. e.g.:\n",
       "\n",
       "    tmp = a\n",
       "    a = b\n",
       "    b = tmp\n",
       "\n",
       "If you've read lots of Python code, you might have seen the following trick to swap two variables in one line:\n",
       "\n",
       "    a, b = b, a\n",
       "\n",
       "We'll demystify this bit of Python magic later when we talk about *tuples*."
      ],
      "text/plain": [
       "Correct: \n",
       "\n",
       "The most straightforward solution is to use a third variable to temporarily store one of the old values. e.g.:\n",
       "\n",
       "    tmp = a\n",
       "    a = b\n",
       "    b = tmp\n",
       "\n",
       "If you've read lots of Python code, you might have seen the following trick to swap two variables in one line:\n",
       "\n",
       "    a, b = b, a\n",
       "\n",
       "We'll demystify this bit of Python magic later when we talk about *tuples*."
      ]
     },
     "metadata": {},
     "output_type": "display_data"
    }
   ],
   "source": [
    "########### Setup code - don't touch this part ######################\n",
    "# If you're curious, these are examples of lists. We'll talk about \n",
    "# them in depth a few lessons from now. For now, just know that they're\n",
    "# yet another type of Python object, like int or float.\n",
    "from learntools.core import binder; binder.bind(globals())\n",
    "from learntools.python.ex1 import *\n",
    "a = [1, 2, 3]\n",
    "b = [3, 2, 1]\n",
    "q2.store_original_ids()\n",
    "a,b = b,a\n",
    "######################################################################\n",
    "\n",
    "# Your code goes here. Swap the values to which a and b refer.\n",
    "# If you get stuck, you can always uncomment one or both of the lines in\n",
    "# the next cell for a hint, or to peek at the solution.\n",
    "\n",
    "######################################################################\n",
    "\n",
    "# Check your answer\n",
    "q2.check()"
   ]
  },
  {
   "cell_type": "code",
   "execution_count": 8,
   "id": "5b5a8f7c",
   "metadata": {
    "execution": {
     "iopub.execute_input": "2022-04-25T18:49:17.714821Z",
     "iopub.status.busy": "2022-04-25T18:49:17.714417Z",
     "iopub.status.idle": "2022-04-25T18:49:17.719351Z",
     "shell.execute_reply": "2022-04-25T18:49:17.718294Z"
    },
    "papermill": {
     "duration": 0.03881,
     "end_time": "2022-04-25T18:49:17.721266",
     "exception": false,
     "start_time": "2022-04-25T18:49:17.682456",
     "status": "completed"
    },
    "tags": []
   },
   "outputs": [],
   "source": [
    "#q2.hint()"
   ]
  },
  {
   "cell_type": "code",
   "execution_count": 9,
   "id": "9da8d969",
   "metadata": {
    "execution": {
     "iopub.execute_input": "2022-04-25T18:49:17.778695Z",
     "iopub.status.busy": "2022-04-25T18:49:17.777345Z",
     "iopub.status.idle": "2022-04-25T18:49:17.781524Z",
     "shell.execute_reply": "2022-04-25T18:49:17.781048Z"
    },
    "papermill": {
     "duration": 0.034022,
     "end_time": "2022-04-25T18:49:17.783369",
     "exception": false,
     "start_time": "2022-04-25T18:49:17.749347",
     "status": "completed"
    },
    "tags": []
   },
   "outputs": [],
   "source": [
    "#q2.solution()"
   ]
  },
  {
   "cell_type": "markdown",
   "id": "a52e2b8e",
   "metadata": {
    "papermill": {
     "duration": 0.024708,
     "end_time": "2022-04-25T18:49:17.833048",
     "exception": false,
     "start_time": "2022-04-25T18:49:17.808340",
     "status": "completed"
    },
    "tags": []
   },
   "source": [
    "<hr/>\n",
    "\n",
    "# 3a.\n",
    "\n",
    "Add parentheses to the following expression so that it evaluates to 1."
   ]
  },
  {
   "cell_type": "code",
   "execution_count": 10,
   "id": "e7fe0b3d",
   "metadata": {
    "execution": {
     "iopub.execute_input": "2022-04-25T18:49:17.883273Z",
     "iopub.status.busy": "2022-04-25T18:49:17.883012Z",
     "iopub.status.idle": "2022-04-25T18:49:17.888293Z",
     "shell.execute_reply": "2022-04-25T18:49:17.887860Z"
    },
    "papermill": {
     "duration": 0.032202,
     "end_time": "2022-04-25T18:49:17.889573",
     "exception": false,
     "start_time": "2022-04-25T18:49:17.857371",
     "status": "completed"
    },
    "tags": []
   },
   "outputs": [
    {
     "data": {
      "text/plain": [
       "1"
      ]
     },
     "execution_count": 10,
     "metadata": {},
     "output_type": "execute_result"
    }
   ],
   "source": [
    "(5 - 3) // 2"
   ]
  },
  {
   "cell_type": "code",
   "execution_count": 11,
   "id": "2889f74b",
   "metadata": {
    "execution": {
     "iopub.execute_input": "2022-04-25T18:49:17.941153Z",
     "iopub.status.busy": "2022-04-25T18:49:17.940798Z",
     "iopub.status.idle": "2022-04-25T18:49:17.943593Z",
     "shell.execute_reply": "2022-04-25T18:49:17.942951Z"
    },
    "papermill": {
     "duration": 0.030704,
     "end_time": "2022-04-25T18:49:17.945178",
     "exception": false,
     "start_time": "2022-04-25T18:49:17.914474",
     "status": "completed"
    },
    "tags": []
   },
   "outputs": [],
   "source": [
    "#q3.a.hint()"
   ]
  },
  {
   "cell_type": "code",
   "execution_count": 12,
   "id": "3f485faf",
   "metadata": {
    "execution": {
     "iopub.execute_input": "2022-04-25T18:49:17.998226Z",
     "iopub.status.busy": "2022-04-25T18:49:17.997731Z",
     "iopub.status.idle": "2022-04-25T18:49:18.002823Z",
     "shell.execute_reply": "2022-04-25T18:49:18.002411Z"
    },
    "papermill": {
     "duration": 0.033557,
     "end_time": "2022-04-25T18:49:18.004685",
     "exception": false,
     "start_time": "2022-04-25T18:49:17.971128",
     "status": "completed"
    },
    "tags": []
   },
   "outputs": [
    {
     "data": {
      "application/javascript": [
       "parent.postMessage({\"jupyterEvent\": \"custom.exercise_interaction\", \"data\": {\"interactionType\": 3, \"questionType\": 4, \"questionId\": \"3.1_ArithmeticParensEasy\", \"learnToolsVersion\": \"0.3.4\", \"valueTowardsCompletion\": 0.0, \"failureMessage\": \"\", \"exceptionClass\": \"\", \"trace\": \"\", \"outcomeType\": 4}}, \"*\")"
      ],
      "text/plain": [
       "<IPython.core.display.Javascript object>"
      ]
     },
     "metadata": {},
     "output_type": "display_data"
    },
    {
     "data": {
      "text/markdown": [
       "<span style=\"color:#33cc99\">Solution:</span> \n",
       "```python\n",
       "(5 - 3) // 2\n",
       "```"
      ],
      "text/plain": [
       "Solution: \n",
       "```python\n",
       "(5 - 3) // 2\n",
       "```"
      ]
     },
     "metadata": {},
     "output_type": "display_data"
    }
   ],
   "source": [
    "# Check your answer (Run this code cell to receive credit!)\n",
    "q3.a.solution()"
   ]
  },
  {
   "cell_type": "markdown",
   "id": "2a2baa67",
   "metadata": {
    "papermill": {
     "duration": 0.026503,
     "end_time": "2022-04-25T18:49:18.060027",
     "exception": false,
     "start_time": "2022-04-25T18:49:18.033524",
     "status": "completed"
    },
    "tags": []
   },
   "source": [
    "# 3b.  <span title=\"A bit spicy\" style=\"color: darkgreen \">🌶️</span>\n",
    "\n",
    "<small>Questions, like this one, marked a spicy pepper are a bit harder.</small>\n",
    "\n",
    "Add parentheses to the following expression so that it evaluates to 0."
   ]
  },
  {
   "cell_type": "code",
   "execution_count": 13,
   "id": "8fc9ce87",
   "metadata": {
    "execution": {
     "iopub.execute_input": "2022-04-25T18:49:18.115500Z",
     "iopub.status.busy": "2022-04-25T18:49:18.115271Z",
     "iopub.status.idle": "2022-04-25T18:49:18.120707Z",
     "shell.execute_reply": "2022-04-25T18:49:18.120057Z"
    },
    "papermill": {
     "duration": 0.036574,
     "end_time": "2022-04-25T18:49:18.122901",
     "exception": false,
     "start_time": "2022-04-25T18:49:18.086327",
     "status": "completed"
    },
    "tags": []
   },
   "outputs": [
    {
     "data": {
      "text/plain": [
       "0"
      ]
     },
     "execution_count": 13,
     "metadata": {},
     "output_type": "execute_result"
    }
   ],
   "source": [
    "(8 - 3) * (2 -( 1 + 1))"
   ]
  },
  {
   "cell_type": "code",
   "execution_count": 14,
   "id": "da603419",
   "metadata": {
    "execution": {
     "iopub.execute_input": "2022-04-25T18:49:18.204721Z",
     "iopub.status.busy": "2022-04-25T18:49:18.204524Z",
     "iopub.status.idle": "2022-04-25T18:49:18.206965Z",
     "shell.execute_reply": "2022-04-25T18:49:18.206569Z"
    },
    "papermill": {
     "duration": 0.045327,
     "end_time": "2022-04-25T18:49:18.208673",
     "exception": false,
     "start_time": "2022-04-25T18:49:18.163346",
     "status": "completed"
    },
    "tags": []
   },
   "outputs": [],
   "source": [
    "#q3.b.hint()"
   ]
  },
  {
   "cell_type": "code",
   "execution_count": 15,
   "id": "011c2d96",
   "metadata": {
    "execution": {
     "iopub.execute_input": "2022-04-25T18:49:18.292737Z",
     "iopub.status.busy": "2022-04-25T18:49:18.292374Z",
     "iopub.status.idle": "2022-04-25T18:49:18.296916Z",
     "shell.execute_reply": "2022-04-25T18:49:18.296527Z"
    },
    "papermill": {
     "duration": 0.048865,
     "end_time": "2022-04-25T18:49:18.299564",
     "exception": false,
     "start_time": "2022-04-25T18:49:18.250699",
     "status": "completed"
    },
    "tags": []
   },
   "outputs": [
    {
     "data": {
      "application/javascript": [
       "parent.postMessage({\"jupyterEvent\": \"custom.exercise_interaction\", \"data\": {\"interactionType\": 3, \"questionType\": 4, \"questionId\": \"3.2_ArithmeticParensHard\", \"learnToolsVersion\": \"0.3.4\", \"valueTowardsCompletion\": 0.0, \"failureMessage\": \"\", \"exceptionClass\": \"\", \"trace\": \"\", \"outcomeType\": 4}}, \"*\")"
      ],
      "text/plain": [
       "<IPython.core.display.Javascript object>"
      ]
     },
     "metadata": {},
     "output_type": "display_data"
    },
    {
     "data": {
      "text/markdown": [
       "<span style=\"color:#33cc99\">Solution:</span> `(8 - 3) * (2 - (1 + 1))` is one solution. There may be others."
      ],
      "text/plain": [
       "Solution: `(8 - 3) * (2 - (1 + 1))` is one solution. There may be others."
      ]
     },
     "metadata": {},
     "output_type": "display_data"
    }
   ],
   "source": [
    "# Check your answer (Run this code cell to receive credit!)\n",
    "q3.b.solution()"
   ]
  },
  {
   "cell_type": "markdown",
   "id": "c487e860",
   "metadata": {
    "papermill": {
     "duration": 0.041632,
     "end_time": "2022-04-25T18:49:18.383006",
     "exception": false,
     "start_time": "2022-04-25T18:49:18.341374",
     "status": "completed"
    },
    "tags": []
   },
   "source": [
    "<hr/>\n",
    "\n",
    "# 4. \n",
    "Alice, Bob and Carol have agreed to pool their Halloween candy and split it evenly among themselves.\n",
    "For the sake of their friendship, any candies left over will be smashed. For example, if they collectively\n",
    "bring home 91 candies, they'll take 30 each and smash 1.\n",
    "\n",
    "Write an arithmetic expression below to calculate how many candies they must smash for a given haul."
   ]
  },
  {
   "cell_type": "code",
   "execution_count": 16,
   "id": "3bf8a1e8",
   "metadata": {
    "execution": {
     "iopub.execute_input": "2022-04-25T18:49:18.468451Z",
     "iopub.status.busy": "2022-04-25T18:49:18.468080Z",
     "iopub.status.idle": "2022-04-25T18:49:18.473371Z",
     "shell.execute_reply": "2022-04-25T18:49:18.473024Z"
    },
    "papermill": {
     "duration": 0.050346,
     "end_time": "2022-04-25T18:49:18.474988",
     "exception": false,
     "start_time": "2022-04-25T18:49:18.424642",
     "status": "completed"
    },
    "tags": []
   },
   "outputs": [
    {
     "data": {
      "application/javascript": [
       "parent.postMessage({\"jupyterEvent\": \"custom.exercise_interaction\", \"data\": {\"outcomeType\": 1, \"valueTowardsCompletion\": 0.25, \"interactionType\": 1, \"questionType\": 1, \"questionId\": \"4_CandySplitting\", \"learnToolsVersion\": \"0.3.4\", \"failureMessage\": \"\", \"exceptionClass\": \"\", \"trace\": \"\"}}, \"*\")"
      ],
      "text/plain": [
       "<IPython.core.display.Javascript object>"
      ]
     },
     "metadata": {},
     "output_type": "display_data"
    },
    {
     "data": {
      "text/markdown": [
       "<span style=\"color:#33cc33\">Correct</span>"
      ],
      "text/plain": [
       "Correct"
      ]
     },
     "metadata": {},
     "output_type": "display_data"
    }
   ],
   "source": [
    "# Variables representing the number of candies collected by alice, bob, and carol\n",
    "alice_candies = 121\n",
    "bob_candies = 77\n",
    "carol_candies = 109\n",
    "\n",
    "# Your code goes here! Replace the right-hand side of this assignment with an expression\n",
    "# involving alice_candies, bob_candies, and carol_candies\n",
    "to_smash = (alice_candies + bob_candies + carol_candies)%3\n",
    "\n",
    "# Check your answer\n",
    "q4.check()"
   ]
  },
  {
   "cell_type": "code",
   "execution_count": 17,
   "id": "636f0a9a",
   "metadata": {
    "execution": {
     "iopub.execute_input": "2022-04-25T18:49:18.564200Z",
     "iopub.status.busy": "2022-04-25T18:49:18.563818Z",
     "iopub.status.idle": "2022-04-25T18:49:18.566080Z",
     "shell.execute_reply": "2022-04-25T18:49:18.565705Z"
    },
    "papermill": {
     "duration": 0.049274,
     "end_time": "2022-04-25T18:49:18.567578",
     "exception": false,
     "start_time": "2022-04-25T18:49:18.518304",
     "status": "completed"
    },
    "tags": []
   },
   "outputs": [],
   "source": [
    "#q4.hint()\n",
    "#q4.solution()"
   ]
  },
  {
   "cell_type": "markdown",
   "id": "e16e191a",
   "metadata": {
    "papermill": {
     "duration": 0.04418,
     "end_time": "2022-04-25T18:49:18.655800",
     "exception": false,
     "start_time": "2022-04-25T18:49:18.611620",
     "status": "completed"
    },
    "tags": []
   },
   "source": [
    "# Keep Going\n",
    "\n",
    "Next up, you'll **[learn to write new functions and understand functions others write](https://www.kaggle.com/colinmorris/functions-and-getting-help)**. This will make you at least 10 times more productive as a Python programmer. "
   ]
  },
  {
   "cell_type": "markdown",
   "id": "32520040",
   "metadata": {
    "papermill": {
     "duration": 0.043853,
     "end_time": "2022-04-25T18:49:18.743591",
     "exception": false,
     "start_time": "2022-04-25T18:49:18.699738",
     "status": "completed"
    },
    "tags": []
   },
   "source": [
    "---\n",
    "\n",
    "\n",
    "\n",
    "\n",
    "*Have questions or comments? Visit the [course discussion forum](https://www.kaggle.com/learn/python/discussion) to chat with other learners.*"
   ]
  }
 ],
 "metadata": {
  "kernelspec": {
   "display_name": "Python 3",
   "language": "python",
   "name": "python3"
  },
  "language_info": {
   "codemirror_mode": {
    "name": "ipython",
    "version": 3
   },
   "file_extension": ".py",
   "mimetype": "text/x-python",
   "name": "python",
   "nbconvert_exporter": "python",
   "pygments_lexer": "ipython3",
   "version": "3.7.12"
  },
  "papermill": {
   "default_parameters": {},
   "duration": 10.49092,
   "end_time": "2022-04-25T18:49:19.307388",
   "environment_variables": {},
   "exception": null,
   "input_path": "__notebook__.ipynb",
   "output_path": "__notebook__.ipynb",
   "parameters": {},
   "start_time": "2022-04-25T18:49:08.816468",
   "version": "2.3.4"
  }
 },
 "nbformat": 4,
 "nbformat_minor": 5
}
