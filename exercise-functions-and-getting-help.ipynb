{
 "cells": [
  {
   "cell_type": "markdown",
   "id": "8a79fcdc",
   "metadata": {
    "papermill": {
     "duration": 0.018384,
     "end_time": "2022-04-25T18:48:21.374651",
     "exception": false,
     "start_time": "2022-04-25T18:48:21.356267",
     "status": "completed"
    },
    "tags": []
   },
   "source": [
    "**This notebook is an exercise in the [Python](https://www.kaggle.com/learn/python) course.  You can reference the tutorial at [this link](https://www.kaggle.com/colinmorris/functions-and-getting-help).**\n",
    "\n",
    "---\n"
   ]
  },
  {
   "cell_type": "markdown",
   "id": "8265dad2",
   "metadata": {
    "papermill": {
     "duration": 0.0167,
     "end_time": "2022-04-25T18:48:21.409679",
     "exception": false,
     "start_time": "2022-04-25T18:48:21.392979",
     "status": "completed"
    },
    "tags": []
   },
   "source": [
    "Functions are powerful. Try writing some yourself.\n",
    "\n",
    "As before, don't forget to run the setup code below before jumping into question 1."
   ]
  },
  {
   "cell_type": "code",
   "execution_count": 1,
   "id": "ead18fde",
   "metadata": {
    "_kg_hide-input": true,
    "_kg_hide-output": true,
    "execution": {
     "iopub.execute_input": "2022-04-25T18:48:21.447887Z",
     "iopub.status.busy": "2022-04-25T18:48:21.447440Z",
     "iopub.status.idle": "2022-04-25T18:48:21.507793Z",
     "shell.execute_reply": "2022-04-25T18:48:21.506746Z"
    },
    "papermill": {
     "duration": 0.083975,
     "end_time": "2022-04-25T18:48:21.511012",
     "exception": false,
     "start_time": "2022-04-25T18:48:21.427037",
     "status": "completed"
    },
    "tags": []
   },
   "outputs": [
    {
     "name": "stdout",
     "output_type": "stream",
     "text": [
      "Setup complete.\n"
     ]
    }
   ],
   "source": [
    "# SETUP. You don't need to worry for now about what this code does or how it works.\n",
    "from learntools.core import binder; binder.bind(globals())\n",
    "from learntools.python.ex2 import *\n",
    "print('Setup complete.')"
   ]
  },
  {
   "cell_type": "markdown",
   "id": "ee06886f",
   "metadata": {
    "papermill": {
     "duration": 0.018115,
     "end_time": "2022-04-25T18:48:21.547735",
     "exception": false,
     "start_time": "2022-04-25T18:48:21.529620",
     "status": "completed"
    },
    "tags": []
   },
   "source": [
    "# 1.\n",
    "\n",
    "Complete the body of the following function according to its docstring.\n",
    "\n",
    "HINT: Python has a built-in function `round`."
   ]
  },
  {
   "cell_type": "code",
   "execution_count": 2,
   "id": "3be98d50",
   "metadata": {
    "execution": {
     "iopub.execute_input": "2022-04-25T18:48:21.584796Z",
     "iopub.status.busy": "2022-04-25T18:48:21.584118Z",
     "iopub.status.idle": "2022-04-25T18:48:21.596413Z",
     "shell.execute_reply": "2022-04-25T18:48:21.595628Z"
    },
    "papermill": {
     "duration": 0.03306,
     "end_time": "2022-04-25T18:48:21.598206",
     "exception": false,
     "start_time": "2022-04-25T18:48:21.565146",
     "status": "completed"
    },
    "tags": []
   },
   "outputs": [
    {
     "data": {
      "application/javascript": [
       "parent.postMessage({\"jupyterEvent\": \"custom.exercise_interaction\", \"data\": {\"outcomeType\": 1, \"valueTowardsCompletion\": 0.16666666666666666, \"interactionType\": 1, \"questionType\": 2, \"questionId\": \"1_RoundFunctionProblem\", \"learnToolsVersion\": \"0.3.4\", \"failureMessage\": \"\", \"exceptionClass\": \"\", \"trace\": \"\"}}, \"*\")"
      ],
      "text/plain": [
       "<IPython.core.display.Javascript object>"
      ]
     },
     "metadata": {},
     "output_type": "display_data"
    },
    {
     "data": {
      "text/markdown": [
       "<span style=\"color:#33cc33\">Correct</span>"
      ],
      "text/plain": [
       "Correct"
      ]
     },
     "metadata": {},
     "output_type": "display_data"
    }
   ],
   "source": [
    "from learntools.core import binder; binder.bind(globals())\n",
    "from learntools.python.ex2 import *\n",
    "def round_to_two_places(num):\n",
    "    \"\"\"Return the given number rounded to two decimal places. \n",
    "    \n",
    "    >>> round_to_two_places(3.14159)\n",
    "    3.14\n",
    "    \"\"\"\n",
    "    # Replace this body with your own code.\n",
    "    # (\"pass\" is a keyword that does literally nothing. We used it as a placeholder\n",
    "    # because after we begin a code block, Python requires at least one line of code)\n",
    "    a = round(num,2)\n",
    "    return a\n",
    "# Check your answer\n",
    "q1.check()"
   ]
  },
  {
   "cell_type": "code",
   "execution_count": 3,
   "id": "858a5d28",
   "metadata": {
    "execution": {
     "iopub.execute_input": "2022-04-25T18:48:21.637727Z",
     "iopub.status.busy": "2022-04-25T18:48:21.637110Z",
     "iopub.status.idle": "2022-04-25T18:48:21.640403Z",
     "shell.execute_reply": "2022-04-25T18:48:21.639832Z"
    },
    "papermill": {
     "duration": 0.025312,
     "end_time": "2022-04-25T18:48:21.642139",
     "exception": false,
     "start_time": "2022-04-25T18:48:21.616827",
     "status": "completed"
    },
    "tags": []
   },
   "outputs": [],
   "source": [
    "# Uncomment the following for a hint\n",
    "#q1.hint()\n",
    "# Or uncomment the following to peek at the solution\n",
    "#q1.solution()"
   ]
  },
  {
   "cell_type": "markdown",
   "id": "c8160a5c",
   "metadata": {
    "papermill": {
     "duration": 0.018296,
     "end_time": "2022-04-25T18:48:21.679198",
     "exception": false,
     "start_time": "2022-04-25T18:48:21.660902",
     "status": "completed"
    },
    "tags": []
   },
   "source": [
    "# 2.\n",
    "The help for `round` says that `ndigits` (the second argument) may be negative.\n",
    "What do you think will happen when it is? Try some examples in the following cell."
   ]
  },
  {
   "cell_type": "code",
   "execution_count": 4,
   "id": "b3210499",
   "metadata": {
    "execution": {
     "iopub.execute_input": "2022-04-25T18:48:21.718855Z",
     "iopub.status.busy": "2022-04-25T18:48:21.718218Z",
     "iopub.status.idle": "2022-04-25T18:48:21.723312Z",
     "shell.execute_reply": "2022-04-25T18:48:21.722300Z"
    },
    "papermill": {
     "duration": 0.027679,
     "end_time": "2022-04-25T18:48:21.725583",
     "exception": false,
     "start_time": "2022-04-25T18:48:21.697904",
     "status": "completed"
    },
    "tags": []
   },
   "outputs": [
    {
     "name": "stdout",
     "output_type": "stream",
     "text": [
      "0\n"
     ]
    }
   ],
   "source": [
    "a = round(5,-2)\n",
    "print(a)"
   ]
  },
  {
   "cell_type": "markdown",
   "id": "fe97bd66",
   "metadata": {
    "papermill": {
     "duration": 0.020152,
     "end_time": "2022-04-25T18:48:21.765516",
     "exception": false,
     "start_time": "2022-04-25T18:48:21.745364",
     "status": "completed"
    },
    "tags": []
   },
   "source": [
    "Can you think of a case where this would be useful?  Once you're ready, run the code cell below to see the answer and to receive credit for completing the problem."
   ]
  },
  {
   "cell_type": "code",
   "execution_count": 5,
   "id": "ce3ea471",
   "metadata": {
    "execution": {
     "iopub.execute_input": "2022-04-25T18:48:21.806042Z",
     "iopub.status.busy": "2022-04-25T18:48:21.805432Z",
     "iopub.status.idle": "2022-04-25T18:48:21.815085Z",
     "shell.execute_reply": "2022-04-25T18:48:21.814109Z"
    },
    "papermill": {
     "duration": 0.032295,
     "end_time": "2022-04-25T18:48:21.816981",
     "exception": false,
     "start_time": "2022-04-25T18:48:21.784686",
     "status": "completed"
    },
    "tags": []
   },
   "outputs": [
    {
     "name": "stdout",
     "output_type": "stream",
     "text": [
      "0\n"
     ]
    },
    {
     "data": {
      "application/javascript": [
       "parent.postMessage({\"jupyterEvent\": \"custom.exercise_interaction\", \"data\": {\"interactionType\": 3, \"questionType\": 4, \"questionId\": \"2_RoundNdigitsProblem\", \"learnToolsVersion\": \"0.3.4\", \"valueTowardsCompletion\": 0.0, \"failureMessage\": \"\", \"exceptionClass\": \"\", \"trace\": \"\", \"outcomeType\": 4}}, \"*\")"
      ],
      "text/plain": [
       "<IPython.core.display.Javascript object>"
      ]
     },
     "metadata": {},
     "output_type": "display_data"
    },
    {
     "data": {
      "text/markdown": [
       "<span style=\"color:#33cc99\">Solution:</span> As you've seen, `ndigits=-1` rounds to the nearest 10, `ndigits=-2` rounds to the nearest 100 and so on. Where might this be useful? Suppose we're dealing with large numbers:\n",
       "\n",
       "> The area of Finland is 338,424 km²  \n",
       "> The area of Greenland is 2,166,086 km²\n",
       "\n",
       "We probably don't care whether it's really 338,424, or 338,425, or 338,177. All those digits of accuracy are just distracting. We can chop them off by calling `round()` with `ndigits=-3`:\n",
       "\n",
       "> The area of Finland is 338,000 km²  \n",
       "> The area of Greenland is 2,166,000 km²\n",
       "\n",
       "(We'll talk about how we would get the commas later when we talk about string formatting :))\n"
      ],
      "text/plain": [
       "Solution: As you've seen, `ndigits=-1` rounds to the nearest 10, `ndigits=-2` rounds to the nearest 100 and so on. Where might this be useful? Suppose we're dealing with large numbers:\n",
       "\n",
       "> The area of Finland is 338,424 km²  \n",
       "> The area of Greenland is 2,166,086 km²\n",
       "\n",
       "We probably don't care whether it's really 338,424, or 338,425, or 338,177. All those digits of accuracy are just distracting. We can chop them off by calling `round()` with `ndigits=-3`:\n",
       "\n",
       "> The area of Finland is 338,000 km²  \n",
       "> The area of Greenland is 2,166,000 km²\n",
       "\n",
       "(We'll talk about how we would get the commas later when we talk about string formatting :))"
      ]
     },
     "metadata": {},
     "output_type": "display_data"
    }
   ],
   "source": [
    "# Check your answer (Run this code cell to receive credit!)\n",
    "from learntools.core import binder; binder.bind(globals())\n",
    "from learntools.python.ex2 import *\n",
    "a = round(50,-2)\n",
    "print(a)\n",
    "q2.solution()"
   ]
  },
  {
   "cell_type": "markdown",
   "id": "d3e12d4a",
   "metadata": {
    "papermill": {
     "duration": 0.020841,
     "end_time": "2022-04-25T18:48:21.858696",
     "exception": false,
     "start_time": "2022-04-25T18:48:21.837855",
     "status": "completed"
    },
    "tags": []
   },
   "source": [
    "# 3.\n",
    "\n",
    "In the previous exercise, the candy-sharing friends Alice, Bob and Carol tried to split candies evenly. For the sake of their friendship, any candies left over would be smashed. For example, if they collectively bring home 91 candies, they'll take 30 each and smash 1.\n",
    "\n",
    "Below is a simple function that will calculate the number of candies to smash for *any* number of total candies.\n",
    "\n",
    "Modify it so that it optionally takes a second argument representing the number of friends the candies are being split between. If no second argument is provided, it should assume 3 friends, as before.\n",
    "\n",
    "Update the docstring to reflect this new behaviour."
   ]
  },
  {
   "cell_type": "code",
   "execution_count": 6,
   "id": "1b8f38a6",
   "metadata": {
    "execution": {
     "iopub.execute_input": "2022-04-25T18:48:21.905415Z",
     "iopub.status.busy": "2022-04-25T18:48:21.904959Z",
     "iopub.status.idle": "2022-04-25T18:48:21.915331Z",
     "shell.execute_reply": "2022-04-25T18:48:21.914447Z"
    },
    "papermill": {
     "duration": 0.036842,
     "end_time": "2022-04-25T18:48:21.917360",
     "exception": false,
     "start_time": "2022-04-25T18:48:21.880518",
     "status": "completed"
    },
    "tags": []
   },
   "outputs": [
    {
     "data": {
      "application/javascript": [
       "parent.postMessage({\"jupyterEvent\": \"custom.exercise_interaction\", \"data\": {\"outcomeType\": 1, \"valueTowardsCompletion\": 0.16666666666666666, \"interactionType\": 1, \"questionType\": 2, \"questionId\": \"3_CandySmashingFunctionProblem\", \"learnToolsVersion\": \"0.3.4\", \"failureMessage\": \"\", \"exceptionClass\": \"\", \"trace\": \"\"}}, \"*\")"
      ],
      "text/plain": [
       "<IPython.core.display.Javascript object>"
      ]
     },
     "metadata": {},
     "output_type": "display_data"
    },
    {
     "data": {
      "text/markdown": [
       "<span style=\"color:#33cc33\">Correct</span>"
      ],
      "text/plain": [
       "Correct"
      ]
     },
     "metadata": {},
     "output_type": "display_data"
    }
   ],
   "source": [
    "from learntools.core import binder; binder.bind(globals())\n",
    "from learntools.python.ex2 import *\n",
    "def to_smash(total_candies, a=3):\n",
    "    \"\"\"Return the number of leftover candies that must be smashed after distributing\n",
    "    the given number of candies evenly between 3 friends.\n",
    "    \n",
    "    >>> to_smash(91)\n",
    "    1\n",
    "    \"\"\"\n",
    "    return total_candies % a\n",
    "\n",
    "# Check your answer\n",
    "q3.check()"
   ]
  },
  {
   "cell_type": "code",
   "execution_count": 7,
   "id": "c28c85f1",
   "metadata": {
    "execution": {
     "iopub.execute_input": "2022-04-25T18:48:21.965481Z",
     "iopub.status.busy": "2022-04-25T18:48:21.965138Z",
     "iopub.status.idle": "2022-04-25T18:48:21.972493Z",
     "shell.execute_reply": "2022-04-25T18:48:21.971905Z"
    },
    "papermill": {
     "duration": 0.033632,
     "end_time": "2022-04-25T18:48:21.974374",
     "exception": false,
     "start_time": "2022-04-25T18:48:21.940742",
     "status": "completed"
    },
    "tags": []
   },
   "outputs": [
    {
     "data": {
      "application/javascript": [
       "parent.postMessage({\"jupyterEvent\": \"custom.exercise_interaction\", \"data\": {\"interactionType\": 2, \"questionType\": 2, \"questionId\": \"3_CandySmashingFunctionProblem\", \"learnToolsVersion\": \"0.3.4\", \"valueTowardsCompletion\": 0.0, \"failureMessage\": \"\", \"exceptionClass\": \"\", \"trace\": \"\", \"outcomeType\": 4}}, \"*\")"
      ],
      "text/plain": [
       "<IPython.core.display.Javascript object>"
      ]
     },
     "metadata": {},
     "output_type": "display_data"
    },
    {
     "data": {
      "text/markdown": [
       "<span style=\"color:#3366cc\">Hint:</span> Refer to the section of the last tutorial notebook where we talked about default arguments"
      ],
      "text/plain": [
       "Hint: Refer to the section of the last tutorial notebook where we talked about default arguments"
      ]
     },
     "metadata": {},
     "output_type": "display_data"
    }
   ],
   "source": [
    "q3.hint()"
   ]
  },
  {
   "cell_type": "code",
   "execution_count": 8,
   "id": "6d115a5f",
   "metadata": {
    "execution": {
     "iopub.execute_input": "2022-04-25T18:48:22.023714Z",
     "iopub.status.busy": "2022-04-25T18:48:22.023038Z",
     "iopub.status.idle": "2022-04-25T18:48:22.029860Z",
     "shell.execute_reply": "2022-04-25T18:48:22.029135Z"
    },
    "papermill": {
     "duration": 0.034028,
     "end_time": "2022-04-25T18:48:22.031704",
     "exception": false,
     "start_time": "2022-04-25T18:48:21.997676",
     "status": "completed"
    },
    "tags": []
   },
   "outputs": [
    {
     "data": {
      "application/javascript": [
       "parent.postMessage({\"jupyterEvent\": \"custom.exercise_interaction\", \"data\": {\"interactionType\": 3, \"questionType\": 2, \"questionId\": \"3_CandySmashingFunctionProblem\", \"learnToolsVersion\": \"0.3.4\", \"valueTowardsCompletion\": 0.0, \"failureMessage\": \"\", \"exceptionClass\": \"\", \"trace\": \"\", \"outcomeType\": 4}}, \"*\")"
      ],
      "text/plain": [
       "<IPython.core.display.Javascript object>"
      ]
     },
     "metadata": {},
     "output_type": "display_data"
    },
    {
     "data": {
      "text/markdown": [
       "<span style=\"color:#33cc99\">Solution:</span> \n",
       "```python\n",
       "def to_smash(total_candies, n_friends=3):\n",
       "    return total_candies % n_friends\n",
       "```"
      ],
      "text/plain": [
       "Solution: \n",
       "```python\n",
       "def to_smash(total_candies, n_friends=3):\n",
       "    return total_candies % n_friends\n",
       "```"
      ]
     },
     "metadata": {},
     "output_type": "display_data"
    }
   ],
   "source": [
    "q3.solution()"
   ]
  },
  {
   "cell_type": "markdown",
   "id": "7e9d26e8",
   "metadata": {
    "papermill": {
     "duration": 0.024258,
     "end_time": "2022-04-25T18:48:22.080525",
     "exception": false,
     "start_time": "2022-04-25T18:48:22.056267",
     "status": "completed"
    },
    "tags": []
   },
   "source": [
    "# 4. (Optional)\n",
    "\n",
    "It may not be fun, but reading and understanding error messages will be an important part of your Python career.\n",
    "\n",
    "Each code cell below contains some commented buggy code. For each cell...\n",
    "\n",
    "1. Read the code and predict what you think will happen when it's run.\n",
    "2. Then uncomment the code and run it to see what happens. (**Tip**: In the kernel editor, you can highlight several lines and press `ctrl`+`/` to toggle commenting.)\n",
    "3. Fix the code (so that it accomplishes its intended purpose without throwing an exception)\n",
    "\n",
    "<!-- TODO: should this be autochecked? Delta is probably pretty small. -->"
   ]
  },
  {
   "cell_type": "code",
   "execution_count": 9,
   "id": "cfb03f5d",
   "metadata": {
    "execution": {
     "iopub.execute_input": "2022-04-25T18:48:22.133923Z",
     "iopub.status.busy": "2022-04-25T18:48:22.133300Z",
     "iopub.status.idle": "2022-04-25T18:48:22.137393Z",
     "shell.execute_reply": "2022-04-25T18:48:22.136441Z"
    },
    "papermill": {
     "duration": 0.032273,
     "end_time": "2022-04-25T18:48:22.139445",
     "exception": false,
     "start_time": "2022-04-25T18:48:22.107172",
     "status": "completed"
    },
    "tags": []
   },
   "outputs": [],
   "source": [
    "# ruound_to_two_places(9.9999)"
   ]
  },
  {
   "cell_type": "code",
   "execution_count": 10,
   "id": "c4bbedef",
   "metadata": {
    "execution": {
     "iopub.execute_input": "2022-04-25T18:48:22.192268Z",
     "iopub.status.busy": "2022-04-25T18:48:22.191874Z",
     "iopub.status.idle": "2022-04-25T18:48:22.195763Z",
     "shell.execute_reply": "2022-04-25T18:48:22.195048Z"
    },
    "papermill": {
     "duration": 0.032168,
     "end_time": "2022-04-25T18:48:22.197700",
     "exception": false,
     "start_time": "2022-04-25T18:48:22.165532",
     "status": "completed"
    },
    "tags": []
   },
   "outputs": [],
   "source": [
    "# x = -10\n",
    "# y = 5\n",
    "# # Which of the two variables above has the smallest absolute value?\n",
    "# smallest_abs = min(abs(x, y))"
   ]
  },
  {
   "cell_type": "code",
   "execution_count": 11,
   "id": "a2874f16",
   "metadata": {
    "execution": {
     "iopub.execute_input": "2022-04-25T18:48:22.251323Z",
     "iopub.status.busy": "2022-04-25T18:48:22.250915Z",
     "iopub.status.idle": "2022-04-25T18:48:22.255322Z",
     "shell.execute_reply": "2022-04-25T18:48:22.254423Z"
    },
    "papermill": {
     "duration": 0.034078,
     "end_time": "2022-04-25T18:48:22.257331",
     "exception": false,
     "start_time": "2022-04-25T18:48:22.223253",
     "status": "completed"
    },
    "tags": []
   },
   "outputs": [],
   "source": [
    "# def f(x):\n",
    "#     y = abs(x)\n",
    "# return y\n",
    "\n",
    "# print(f(5))"
   ]
  },
  {
   "cell_type": "markdown",
   "id": "e466d2e5",
   "metadata": {
    "papermill": {
     "duration": 0.024805,
     "end_time": "2022-04-25T18:48:22.307422",
     "exception": false,
     "start_time": "2022-04-25T18:48:22.282617",
     "status": "completed"
    },
    "tags": []
   },
   "source": [
    "# Keep Going\n",
    "\n",
    "Nice job with the code. Next up, you'll learn about *conditionals*, which you'll need to **[write interesting programs](https://www.kaggle.com/colinmorris/booleans-and-conditionals)**. "
   ]
  },
  {
   "cell_type": "markdown",
   "id": "c4ef4c00",
   "metadata": {
    "papermill": {
     "duration": 0.024618,
     "end_time": "2022-04-25T18:48:22.357188",
     "exception": false,
     "start_time": "2022-04-25T18:48:22.332570",
     "status": "completed"
    },
    "tags": []
   },
   "source": [
    "---\n",
    "\n",
    "\n",
    "\n",
    "\n",
    "*Have questions or comments? Visit the [course discussion forum](https://www.kaggle.com/learn/python/discussion) to chat with other learners.*"
   ]
  }
 ],
 "metadata": {
  "kernelspec": {
   "display_name": "Python 3",
   "language": "python",
   "name": "python3"
  },
  "language_info": {
   "codemirror_mode": {
    "name": "ipython",
    "version": 3
   },
   "file_extension": ".py",
   "mimetype": "text/x-python",
   "name": "python",
   "nbconvert_exporter": "python",
   "pygments_lexer": "ipython3",
   "version": "3.7.12"
  },
  "papermill": {
   "default_parameters": {},
   "duration": 13.355213,
   "end_time": "2022-04-25T18:48:23.305706",
   "environment_variables": {},
   "exception": null,
   "input_path": "__notebook__.ipynb",
   "output_path": "__notebook__.ipynb",
   "parameters": {},
   "start_time": "2022-04-25T18:48:09.950493",
   "version": "2.3.4"
  }
 },
 "nbformat": 4,
 "nbformat_minor": 5
}
