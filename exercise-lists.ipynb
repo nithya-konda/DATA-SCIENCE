{
 "cells": [
  {
   "cell_type": "markdown",
   "id": "1629ba9f",
   "metadata": {
    "papermill": {
     "duration": 0.014302,
     "end_time": "2022-04-25T18:46:11.484036",
     "exception": false,
     "start_time": "2022-04-25T18:46:11.469734",
     "status": "completed"
    },
    "tags": []
   },
   "source": [
    "**This notebook is an exercise in the [Python](https://www.kaggle.com/learn/python) course.  You can reference the tutorial at [this link](https://www.kaggle.com/colinmorris/lists).**\n",
    "\n",
    "---\n"
   ]
  },
  {
   "cell_type": "markdown",
   "id": "01744ac8",
   "metadata": {
    "papermill": {
     "duration": 0.012509,
     "end_time": "2022-04-25T18:46:11.510447",
     "exception": false,
     "start_time": "2022-04-25T18:46:11.497938",
     "status": "completed"
    },
    "tags": []
   },
   "source": [
    "Things get more interesting with lists. You'll apply your new knowledge to solve the questions below. Remember to run the following cell first."
   ]
  },
  {
   "cell_type": "code",
   "execution_count": 1,
   "id": "9322321c",
   "metadata": {
    "execution": {
     "iopub.execute_input": "2022-04-25T18:46:11.537907Z",
     "iopub.status.busy": "2022-04-25T18:46:11.537363Z",
     "iopub.status.idle": "2022-04-25T18:46:11.581924Z",
     "shell.execute_reply": "2022-04-25T18:46:11.581251Z"
    },
    "papermill": {
     "duration": 0.06078,
     "end_time": "2022-04-25T18:46:11.584057",
     "exception": false,
     "start_time": "2022-04-25T18:46:11.523277",
     "status": "completed"
    },
    "tags": []
   },
   "outputs": [
    {
     "name": "stdout",
     "output_type": "stream",
     "text": [
      "Setup complete.\n"
     ]
    }
   ],
   "source": [
    "from learntools.core import binder; binder.bind(globals())\n",
    "from learntools.python.ex4 import *\n",
    "print('Setup complete.')"
   ]
  },
  {
   "cell_type": "markdown",
   "id": "2182fc43",
   "metadata": {
    "papermill": {
     "duration": 0.013674,
     "end_time": "2022-04-25T18:46:11.612411",
     "exception": false,
     "start_time": "2022-04-25T18:46:11.598737",
     "status": "completed"
    },
    "tags": []
   },
   "source": [
    "# 1.\n",
    "\n",
    "Complete the function below according to its docstring."
   ]
  },
  {
   "cell_type": "code",
   "execution_count": 2,
   "id": "41c34198",
   "metadata": {
    "execution": {
     "iopub.execute_input": "2022-04-25T18:46:11.640200Z",
     "iopub.status.busy": "2022-04-25T18:46:11.639640Z",
     "iopub.status.idle": "2022-04-25T18:46:11.649153Z",
     "shell.execute_reply": "2022-04-25T18:46:11.648621Z"
    },
    "papermill": {
     "duration": 0.025296,
     "end_time": "2022-04-25T18:46:11.650655",
     "exception": false,
     "start_time": "2022-04-25T18:46:11.625359",
     "status": "completed"
    },
    "tags": []
   },
   "outputs": [
    {
     "data": {
      "application/javascript": [
       "parent.postMessage({\"jupyterEvent\": \"custom.exercise_interaction\", \"data\": {\"outcomeType\": 1, \"valueTowardsCompletion\": 0.2, \"interactionType\": 1, \"questionType\": 2, \"questionId\": \"1_SelectSecondItem\", \"learnToolsVersion\": \"0.3.4\", \"failureMessage\": \"\", \"exceptionClass\": \"\", \"trace\": \"\"}}, \"*\")"
      ],
      "text/plain": [
       "<IPython.core.display.Javascript object>"
      ]
     },
     "metadata": {},
     "output_type": "display_data"
    },
    {
     "data": {
      "text/markdown": [
       "<span style=\"color:#33cc33\">Correct</span>"
      ],
      "text/plain": [
       "Correct"
      ]
     },
     "metadata": {},
     "output_type": "display_data"
    }
   ],
   "source": [
    "from learntools.core import binder; binder.bind(globals())\n",
    "from learntools.python.ex4 import *\n",
    "def select_second(L):\n",
    "    \"\"\"Return the second element of the given list. If the list has no second\n",
    "    element, return None.\n",
    "    \"\"\"\n",
    "    try:\n",
    "        a = L[1]\n",
    "    except:\n",
    "        a=None\n",
    "    return a\n",
    "    pass\n",
    "    \n",
    "\n",
    "# Check your answer\n",
    "q1.check()"
   ]
  },
  {
   "cell_type": "code",
   "execution_count": 3,
   "id": "5a43f955",
   "metadata": {
    "execution": {
     "iopub.execute_input": "2022-04-25T18:46:11.680411Z",
     "iopub.status.busy": "2022-04-25T18:46:11.679877Z",
     "iopub.status.idle": "2022-04-25T18:46:11.685846Z",
     "shell.execute_reply": "2022-04-25T18:46:11.685047Z"
    },
    "papermill": {
     "duration": 0.022986,
     "end_time": "2022-04-25T18:46:11.687650",
     "exception": false,
     "start_time": "2022-04-25T18:46:11.664664",
     "status": "completed"
    },
    "tags": []
   },
   "outputs": [
    {
     "data": {
      "application/javascript": [
       "parent.postMessage({\"jupyterEvent\": \"custom.exercise_interaction\", \"data\": {\"interactionType\": 3, \"questionType\": 2, \"questionId\": \"1_SelectSecondItem\", \"learnToolsVersion\": \"0.3.4\", \"valueTowardsCompletion\": 0.0, \"failureMessage\": \"\", \"exceptionClass\": \"\", \"trace\": \"\", \"outcomeType\": 4}}, \"*\")"
      ],
      "text/plain": [
       "<IPython.core.display.Javascript object>"
      ]
     },
     "metadata": {},
     "output_type": "display_data"
    },
    {
     "data": {
      "text/markdown": [
       "<span style=\"color:#33cc99\">Solution:</span> \n",
       "```python\n",
       "def select_second(L):\n",
       "    if len(L) < 2:\n",
       "        return None\n",
       "    return L[1]\n",
       "```"
      ],
      "text/plain": [
       "Solution: \n",
       "```python\n",
       "def select_second(L):\n",
       "    if len(L) < 2:\n",
       "        return None\n",
       "    return L[1]\n",
       "```"
      ]
     },
     "metadata": {},
     "output_type": "display_data"
    }
   ],
   "source": [
    "#q1.hint()\n",
    "q1.solution()"
   ]
  },
  {
   "cell_type": "markdown",
   "id": "7cb9989a",
   "metadata": {
    "papermill": {
     "duration": 0.017087,
     "end_time": "2022-04-25T18:46:11.719604",
     "exception": false,
     "start_time": "2022-04-25T18:46:11.702517",
     "status": "completed"
    },
    "tags": []
   },
   "source": [
    "# 2.\n",
    "\n",
    "You are analyzing sports teams.  Members of each team are stored in a list. The Coach is the first name in the list, the captain is the second name in the list, and other players are listed after that. \n",
    "These lists are stored in another list, which starts with the best team and proceeds through the list to the worst team last.  Complete the function below to select the **captain** of the worst team."
   ]
  },
  {
   "cell_type": "code",
   "execution_count": 4,
   "id": "9c70937d",
   "metadata": {
    "execution": {
     "iopub.execute_input": "2022-04-25T18:46:11.754090Z",
     "iopub.status.busy": "2022-04-25T18:46:11.753836Z",
     "iopub.status.idle": "2022-04-25T18:46:11.761268Z",
     "shell.execute_reply": "2022-04-25T18:46:11.760609Z"
    },
    "papermill": {
     "duration": 0.027864,
     "end_time": "2022-04-25T18:46:11.763839",
     "exception": false,
     "start_time": "2022-04-25T18:46:11.735975",
     "status": "completed"
    },
    "tags": []
   },
   "outputs": [
    {
     "data": {
      "application/javascript": [
       "parent.postMessage({\"jupyterEvent\": \"custom.exercise_interaction\", \"data\": {\"outcomeType\": 1, \"valueTowardsCompletion\": 0.2, \"interactionType\": 1, \"questionType\": 2, \"questionId\": \"2_LosingTeamCaptain\", \"learnToolsVersion\": \"0.3.4\", \"failureMessage\": \"\", \"exceptionClass\": \"\", \"trace\": \"\"}}, \"*\")"
      ],
      "text/plain": [
       "<IPython.core.display.Javascript object>"
      ]
     },
     "metadata": {},
     "output_type": "display_data"
    },
    {
     "data": {
      "text/markdown": [
       "<span style=\"color:#33cc33\">Correct</span>"
      ],
      "text/plain": [
       "Correct"
      ]
     },
     "metadata": {},
     "output_type": "display_data"
    }
   ],
   "source": [
    "def losing_team_captain(teams):\n",
    "    \"\"\"Given a list of teams, where each team is a list of names, return the 2nd player (captain)\n",
    "    from the last listed team\n",
    "    \"\"\"\n",
    "    return teams[-1][1]\n",
    "    pass\n",
    "\n",
    "# Check your answer\n",
    "q2.check()"
   ]
  },
  {
   "cell_type": "code",
   "execution_count": 5,
   "id": "43551650",
   "metadata": {
    "collapsed": true,
    "execution": {
     "iopub.execute_input": "2022-04-25T18:46:11.810408Z",
     "iopub.status.busy": "2022-04-25T18:46:11.809539Z",
     "iopub.status.idle": "2022-04-25T18:46:11.813173Z",
     "shell.execute_reply": "2022-04-25T18:46:11.812610Z"
    },
    "jupyter": {
     "outputs_hidden": true
    },
    "papermill": {
     "duration": 0.025186,
     "end_time": "2022-04-25T18:46:11.814840",
     "exception": false,
     "start_time": "2022-04-25T18:46:11.789654",
     "status": "completed"
    },
    "tags": []
   },
   "outputs": [],
   "source": [
    "#q2.hint()\n",
    "#q2.solution()"
   ]
  },
  {
   "cell_type": "markdown",
   "id": "562f83e7",
   "metadata": {
    "papermill": {
     "duration": 0.016004,
     "end_time": "2022-04-25T18:46:11.848314",
     "exception": false,
     "start_time": "2022-04-25T18:46:11.832310",
     "status": "completed"
    },
    "tags": []
   },
   "source": [
    "# 3.\n",
    "\n",
    "The next iteration of Mario Kart will feature an extra-infuriating new item, the *Purple Shell*. When used, it warps the last place racer into first place and the first place racer into last place. Complete the function below to implement the Purple Shell's effect."
   ]
  },
  {
   "cell_type": "code",
   "execution_count": 6,
   "id": "f261844b",
   "metadata": {
    "execution": {
     "iopub.execute_input": "2022-04-25T18:46:11.882170Z",
     "iopub.status.busy": "2022-04-25T18:46:11.881636Z",
     "iopub.status.idle": "2022-04-25T18:46:11.888327Z",
     "shell.execute_reply": "2022-04-25T18:46:11.887497Z"
    },
    "papermill": {
     "duration": 0.025753,
     "end_time": "2022-04-25T18:46:11.890093",
     "exception": false,
     "start_time": "2022-04-25T18:46:11.864340",
     "status": "completed"
    },
    "tags": []
   },
   "outputs": [
    {
     "data": {
      "application/javascript": [
       "parent.postMessage({\"jupyterEvent\": \"custom.exercise_interaction\", \"data\": {\"outcomeType\": 1, \"valueTowardsCompletion\": 0.2, \"interactionType\": 1, \"questionType\": 2, \"questionId\": \"3_PurpleShell\", \"learnToolsVersion\": \"0.3.4\", \"failureMessage\": \"\", \"exceptionClass\": \"\", \"trace\": \"\"}}, \"*\")"
      ],
      "text/plain": [
       "<IPython.core.display.Javascript object>"
      ]
     },
     "metadata": {},
     "output_type": "display_data"
    },
    {
     "data": {
      "text/markdown": [
       "<span style=\"color:#33cc33\">Correct</span>"
      ],
      "text/plain": [
       "Correct"
      ]
     },
     "metadata": {},
     "output_type": "display_data"
    }
   ],
   "source": [
    "def purple_shell(racers):\n",
    "    \"\"\"Given a list of racers, set the first place racer (at the front of the list) to last\n",
    "    place and vice versa.\n",
    "    \n",
    "    >>> r = [\"Mario\", \"Bowser\", \"Luigi\"]\n",
    "    >>> purple_shell(r)\n",
    "    >>> r\n",
    "    [\"Luigi\", \"Bowser\", \"Mario\"]\n",
    "    \"\"\"\n",
    "    racers[0], racers[-1] = racers[-1], racers[0]\n",
    "    pass\n",
    "\n",
    "# Check your answer\n",
    "q3.check()"
   ]
  },
  {
   "cell_type": "code",
   "execution_count": 7,
   "id": "2aff9a9b",
   "metadata": {
    "execution": {
     "iopub.execute_input": "2022-04-25T18:46:11.927129Z",
     "iopub.status.busy": "2022-04-25T18:46:11.926631Z",
     "iopub.status.idle": "2022-04-25T18:46:11.932266Z",
     "shell.execute_reply": "2022-04-25T18:46:11.931664Z"
    },
    "papermill": {
     "duration": 0.027191,
     "end_time": "2022-04-25T18:46:11.933986",
     "exception": false,
     "start_time": "2022-04-25T18:46:11.906795",
     "status": "completed"
    },
    "tags": []
   },
   "outputs": [
    {
     "data": {
      "application/javascript": [
       "parent.postMessage({\"jupyterEvent\": \"custom.exercise_interaction\", \"data\": {\"interactionType\": 3, \"questionType\": 2, \"questionId\": \"3_PurpleShell\", \"learnToolsVersion\": \"0.3.4\", \"valueTowardsCompletion\": 0.0, \"failureMessage\": \"\", \"exceptionClass\": \"\", \"trace\": \"\", \"outcomeType\": 4}}, \"*\")"
      ],
      "text/plain": [
       "<IPython.core.display.Javascript object>"
      ]
     },
     "metadata": {},
     "output_type": "display_data"
    },
    {
     "data": {
      "text/markdown": [
       "<span style=\"color:#33cc99\">Solution:</span> \n",
       "```python\n",
       "def purple_shell(racers):\n",
       "    # One slick way to do the swap is x[0], x[-1] = x[-1], x[0].\n",
       "    temp = racers[0]\n",
       "    racers[0] = racers[-1]\n",
       "    racers[-1] = temp\n",
       "```"
      ],
      "text/plain": [
       "Solution: \n",
       "```python\n",
       "def purple_shell(racers):\n",
       "    # One slick way to do the swap is x[0], x[-1] = x[-1], x[0].\n",
       "    temp = racers[0]\n",
       "    racers[0] = racers[-1]\n",
       "    racers[-1] = temp\n",
       "```"
      ]
     },
     "metadata": {},
     "output_type": "display_data"
    }
   ],
   "source": [
    "#q3.hint()\n",
    "q3.solution()"
   ]
  },
  {
   "cell_type": "markdown",
   "id": "f2c38656",
   "metadata": {
    "papermill": {
     "duration": 0.017382,
     "end_time": "2022-04-25T18:46:11.969343",
     "exception": false,
     "start_time": "2022-04-25T18:46:11.951961",
     "status": "completed"
    },
    "tags": []
   },
   "source": [
    "# 4.\n",
    "\n",
    "What are the lengths of the following lists? Fill in the variable `lengths` with your predictions. (Try to make a prediction for each list *without* just calling `len()` on it.)"
   ]
  },
  {
   "cell_type": "code",
   "execution_count": 8,
   "id": "80dee15d",
   "metadata": {
    "execution": {
     "iopub.execute_input": "2022-04-25T18:46:12.006526Z",
     "iopub.status.busy": "2022-04-25T18:46:12.006018Z",
     "iopub.status.idle": "2022-04-25T18:46:12.013218Z",
     "shell.execute_reply": "2022-04-25T18:46:12.012643Z"
    },
    "papermill": {
     "duration": 0.027766,
     "end_time": "2022-04-25T18:46:12.014799",
     "exception": false,
     "start_time": "2022-04-25T18:46:11.987033",
     "status": "completed"
    },
    "tags": []
   },
   "outputs": [
    {
     "data": {
      "application/javascript": [
       "parent.postMessage({\"jupyterEvent\": \"custom.exercise_interaction\", \"data\": {\"outcomeType\": 1, \"valueTowardsCompletion\": 0.2, \"interactionType\": 1, \"questionType\": 1, \"questionId\": \"4_UnderstandLen\", \"learnToolsVersion\": \"0.3.4\", \"failureMessage\": \"\", \"exceptionClass\": \"\", \"trace\": \"\"}}, \"*\")"
      ],
      "text/plain": [
       "<IPython.core.display.Javascript object>"
      ]
     },
     "metadata": {},
     "output_type": "display_data"
    },
    {
     "data": {
      "text/markdown": [
       "<span style=\"color:#33cc33\">Correct:</span> \n",
       "\n",
       "\n",
       "- a: There are three items in this list. Nothing tricky yet.\n",
       "- b: The list `[2, 3]` counts as a single item. It has one item before it. So we have 2 items in the list\n",
       "- c: The empty list has 0 items\n",
       "- d: The expression is the same as the list `[2, 3]`, which has length 2."
      ],
      "text/plain": [
       "Correct: \n",
       "\n",
       "\n",
       "- a: There are three items in this list. Nothing tricky yet.\n",
       "- b: The list `[2, 3]` counts as a single item. It has one item before it. So we have 2 items in the list\n",
       "- c: The empty list has 0 items\n",
       "- d: The expression is the same as the list `[2, 3]`, which has length 2."
      ]
     },
     "metadata": {},
     "output_type": "display_data"
    }
   ],
   "source": [
    "a = [1, 2, 3]\n",
    "b = [1, [2, 3]]\n",
    "c = []\n",
    "d = [1, 2, 3][1:]\n",
    "\n",
    "# Put your predictions in the list below. Lengths should contain 4 numbers, the\n",
    "# first being the length of a, the second being the length of b and so on.\n",
    "lengths = [len(a), len(b), len(c), len(d)]\n",
    "\n",
    "# Check your answer\n",
    "q4.check()"
   ]
  },
  {
   "cell_type": "code",
   "execution_count": 9,
   "id": "893ab82c",
   "metadata": {
    "collapsed": true,
    "execution": {
     "iopub.execute_input": "2022-04-25T18:46:12.054215Z",
     "iopub.status.busy": "2022-04-25T18:46:12.053684Z",
     "iopub.status.idle": "2022-04-25T18:46:12.056636Z",
     "shell.execute_reply": "2022-04-25T18:46:12.056021Z"
    },
    "jupyter": {
     "outputs_hidden": true
    },
    "papermill": {
     "duration": 0.024649,
     "end_time": "2022-04-25T18:46:12.058465",
     "exception": false,
     "start_time": "2022-04-25T18:46:12.033816",
     "status": "completed"
    },
    "tags": []
   },
   "outputs": [],
   "source": [
    "# line below provides some explanation\n",
    "#q4.solution()"
   ]
  },
  {
   "cell_type": "markdown",
   "id": "005b760b",
   "metadata": {
    "papermill": {
     "duration": 0.018227,
     "end_time": "2022-04-25T18:46:12.096180",
     "exception": false,
     "start_time": "2022-04-25T18:46:12.077953",
     "status": "completed"
    },
    "tags": []
   },
   "source": [
    "# 5. <span title=\"A bit spicy\" style=\"color: darkgreen \">🌶️</span>\n",
    "\n",
    "We're using lists to record people who attended our party and what order they arrived in. For example, the following list represents a party with 7 guests, in which Adela showed up first and Ford was the last to arrive:\n",
    "\n",
    "    party_attendees = ['Adela', 'Fleda', 'Owen', 'May', 'Mona', 'Gilbert', 'Ford']\n",
    "\n",
    "A guest is considered 'fashionably late' if they arrived after at least half of the party's guests. However, they must not be the very last guest (that's taking it too far). In the above example, Mona and Gilbert are the only guests who were fashionably late.\n",
    "\n",
    "Complete the function below which takes a list of party attendees as well as a person, and tells us whether that person is fashionably late."
   ]
  },
  {
   "cell_type": "code",
   "execution_count": 10,
   "id": "c899e260",
   "metadata": {
    "execution": {
     "iopub.execute_input": "2022-04-25T18:46:12.134676Z",
     "iopub.status.busy": "2022-04-25T18:46:12.134403Z",
     "iopub.status.idle": "2022-04-25T18:46:12.141082Z",
     "shell.execute_reply": "2022-04-25T18:46:12.140535Z"
    },
    "papermill": {
     "duration": 0.027837,
     "end_time": "2022-04-25T18:46:12.142722",
     "exception": false,
     "start_time": "2022-04-25T18:46:12.114885",
     "status": "completed"
    },
    "tags": []
   },
   "outputs": [
    {
     "data": {
      "application/javascript": [
       "parent.postMessage({\"jupyterEvent\": \"custom.exercise_interaction\", \"data\": {\"outcomeType\": 1, \"valueTowardsCompletion\": 0.2, \"interactionType\": 1, \"questionType\": 2, \"questionId\": \"5_FashionablyLate\", \"learnToolsVersion\": \"0.3.4\", \"failureMessage\": \"\", \"exceptionClass\": \"\", \"trace\": \"\"}}, \"*\")"
      ],
      "text/plain": [
       "<IPython.core.display.Javascript object>"
      ]
     },
     "metadata": {},
     "output_type": "display_data"
    },
    {
     "data": {
      "text/markdown": [
       "<span style=\"color:#33cc33\">Correct</span>"
      ],
      "text/plain": [
       "Correct"
      ]
     },
     "metadata": {},
     "output_type": "display_data"
    }
   ],
   "source": [
    "def fashionably_late(arrivals, name):\n",
    "    \"\"\"Given an ordered list of arrivals to the party and a name, return whether the guest with that\n",
    "    name was fashionably late.\n",
    "    \"\"\"\n",
    "    order = arrivals.index(name)\n",
    "    return order >= len(arrivals) / 2 and order != len(arrivals) - 1\n",
    "    pass\n",
    "\n",
    "# Check your answer\n",
    "q5.check()"
   ]
  },
  {
   "cell_type": "code",
   "execution_count": 11,
   "id": "e76aac47",
   "metadata": {
    "execution": {
     "iopub.execute_input": "2022-04-25T18:46:12.183331Z",
     "iopub.status.busy": "2022-04-25T18:46:12.182852Z",
     "iopub.status.idle": "2022-04-25T18:46:12.188135Z",
     "shell.execute_reply": "2022-04-25T18:46:12.187625Z"
    },
    "papermill": {
     "duration": 0.027427,
     "end_time": "2022-04-25T18:46:12.189663",
     "exception": false,
     "start_time": "2022-04-25T18:46:12.162236",
     "status": "completed"
    },
    "tags": []
   },
   "outputs": [
    {
     "data": {
      "application/javascript": [
       "parent.postMessage({\"jupyterEvent\": \"custom.exercise_interaction\", \"data\": {\"interactionType\": 3, \"questionType\": 2, \"questionId\": \"5_FashionablyLate\", \"learnToolsVersion\": \"0.3.4\", \"valueTowardsCompletion\": 0.0, \"failureMessage\": \"\", \"exceptionClass\": \"\", \"trace\": \"\", \"outcomeType\": 4}}, \"*\")"
      ],
      "text/plain": [
       "<IPython.core.display.Javascript object>"
      ]
     },
     "metadata": {},
     "output_type": "display_data"
    },
    {
     "data": {
      "text/markdown": [
       "<span style=\"color:#33cc99\">Solution:</span> \n",
       "```python\n",
       "def fashionably_late(arrivals, name):\n",
       "    order = arrivals.index(name)\n",
       "    return order >= len(arrivals) / 2 and order != len(arrivals) - 1\n",
       "```"
      ],
      "text/plain": [
       "Solution: \n",
       "```python\n",
       "def fashionably_late(arrivals, name):\n",
       "    order = arrivals.index(name)\n",
       "    return order >= len(arrivals) / 2 and order != len(arrivals) - 1\n",
       "```"
      ]
     },
     "metadata": {},
     "output_type": "display_data"
    }
   ],
   "source": [
    "#q5.hint()\n",
    "q5.solution()"
   ]
  },
  {
   "cell_type": "markdown",
   "id": "b435a48d",
   "metadata": {
    "papermill": {
     "duration": 0.019865,
     "end_time": "2022-04-25T18:46:12.229720",
     "exception": false,
     "start_time": "2022-04-25T18:46:12.209855",
     "status": "completed"
    },
    "tags": []
   },
   "source": [
    "# Keep Going\n",
    "\n",
    "That's it for lists and tuples! Now you have the baseline knowledge to **[learn about loops](https://www.kaggle.com/colinmorris/loops-and-list-comprehensions)**, which is where lists and tuples get really interesting. "
   ]
  },
  {
   "cell_type": "markdown",
   "id": "fdd55929",
   "metadata": {
    "papermill": {
     "duration": 0.019932,
     "end_time": "2022-04-25T18:46:12.269970",
     "exception": false,
     "start_time": "2022-04-25T18:46:12.250038",
     "status": "completed"
    },
    "tags": []
   },
   "source": [
    "---\n",
    "\n",
    "\n",
    "\n",
    "\n",
    "*Have questions or comments? Visit the [course discussion forum](https://www.kaggle.com/learn/python/discussion) to chat with other learners.*"
   ]
  }
 ],
 "metadata": {
  "kernelspec": {
   "display_name": "Python 3",
   "language": "python",
   "name": "python3"
  },
  "language_info": {
   "codemirror_mode": {
    "name": "ipython",
    "version": 3
   },
   "file_extension": ".py",
   "mimetype": "text/x-python",
   "name": "python",
   "nbconvert_exporter": "python",
   "pygments_lexer": "ipython3",
   "version": "3.7.12"
  },
  "papermill": {
   "default_parameters": {},
   "duration": 10.414163,
   "end_time": "2022-04-25T18:46:12.912821",
   "environment_variables": {},
   "exception": null,
   "input_path": "__notebook__.ipynb",
   "output_path": "__notebook__.ipynb",
   "parameters": {},
   "start_time": "2022-04-25T18:46:02.498658",
   "version": "2.3.4"
  }
 },
 "nbformat": 4,
 "nbformat_minor": 5
}
