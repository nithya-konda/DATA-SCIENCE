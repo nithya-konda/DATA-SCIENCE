{
 "cells": [
  {
   "cell_type": "markdown",
   "id": "62ca9efd",
   "metadata": {
    "papermill": {
     "duration": 0.026246,
     "end_time": "2022-04-25T18:47:16.849557",
     "exception": false,
     "start_time": "2022-04-25T18:47:16.823311",
     "status": "completed"
    },
    "tags": []
   },
   "source": [
    "**This notebook is an exercise in the [Python](https://www.kaggle.com/learn/python) course.  You can reference the tutorial at [this link](https://www.kaggle.com/colinmorris/booleans-and-conditionals).**\n",
    "\n",
    "---\n"
   ]
  },
  {
   "cell_type": "markdown",
   "id": "5101f5c8",
   "metadata": {
    "papermill": {
     "duration": 0.025278,
     "end_time": "2022-04-25T18:47:16.899363",
     "exception": false,
     "start_time": "2022-04-25T18:47:16.874085",
     "status": "completed"
    },
    "tags": []
   },
   "source": [
    "In this exercise, you'll put to work what you have learned about booleans and conditionals.\n",
    "\n",
    "To get started, **run the setup code below** before writing your own code (and if you leave this notebook and come back later, don't forget to run the setup code again)."
   ]
  },
  {
   "cell_type": "code",
   "execution_count": 1,
   "id": "d62a9295",
   "metadata": {
    "execution": {
     "iopub.execute_input": "2022-04-25T18:47:16.952491Z",
     "iopub.status.busy": "2022-04-25T18:47:16.952023Z",
     "iopub.status.idle": "2022-04-25T18:47:17.000184Z",
     "shell.execute_reply": "2022-04-25T18:47:16.999612Z"
    },
    "papermill": {
     "duration": 0.077531,
     "end_time": "2022-04-25T18:47:17.002216",
     "exception": false,
     "start_time": "2022-04-25T18:47:16.924685",
     "status": "completed"
    },
    "tags": []
   },
   "outputs": [
    {
     "name": "stdout",
     "output_type": "stream",
     "text": [
      "Setup complete.\n"
     ]
    }
   ],
   "source": [
    "from learntools.core import binder; binder.bind(globals())\n",
    "from learntools.python.ex3 import *\n",
    "print('Setup complete.')"
   ]
  },
  {
   "cell_type": "markdown",
   "id": "30fca47c",
   "metadata": {
    "papermill": {
     "duration": 0.024907,
     "end_time": "2022-04-25T18:47:17.055604",
     "exception": false,
     "start_time": "2022-04-25T18:47:17.030697",
     "status": "completed"
    },
    "tags": []
   },
   "source": [
    "# 1.\n",
    "\n",
    "Many programming languages have [`sign`](https://en.wikipedia.org/wiki/Sign_function) available as a built-in function. Python doesn't, but we can define our own!\n",
    "\n",
    "In the cell below, define a function called `sign` which takes a numerical argument and returns -1 if it's negative, 1 if it's positive, and 0 if it's 0."
   ]
  },
  {
   "cell_type": "code",
   "execution_count": 2,
   "id": "39b88961",
   "metadata": {
    "execution": {
     "iopub.execute_input": "2022-04-25T18:47:17.110258Z",
     "iopub.status.busy": "2022-04-25T18:47:17.109393Z",
     "iopub.status.idle": "2022-04-25T18:47:17.119207Z",
     "shell.execute_reply": "2022-04-25T18:47:17.118467Z"
    },
    "papermill": {
     "duration": 0.039518,
     "end_time": "2022-04-25T18:47:17.121056",
     "exception": false,
     "start_time": "2022-04-25T18:47:17.081538",
     "status": "completed"
    },
    "tags": []
   },
   "outputs": [
    {
     "data": {
      "application/javascript": [
       "parent.postMessage({\"jupyterEvent\": \"custom.exercise_interaction\", \"data\": {\"outcomeType\": 1, \"valueTowardsCompletion\": 0.2, \"interactionType\": 1, \"questionType\": 2, \"questionId\": \"1_SignFunctionProblem\", \"learnToolsVersion\": \"0.3.4\", \"failureMessage\": \"\", \"exceptionClass\": \"\", \"trace\": \"\"}}, \"*\")"
      ],
      "text/plain": [
       "<IPython.core.display.Javascript object>"
      ]
     },
     "metadata": {},
     "output_type": "display_data"
    },
    {
     "data": {
      "text/markdown": [
       "<span style=\"color:#33cc33\">Correct</span>"
      ],
      "text/plain": [
       "Correct"
      ]
     },
     "metadata": {},
     "output_type": "display_data"
    }
   ],
   "source": [
    "from learntools.core import binder; binder.bind(globals())\n",
    "from learntools.python.ex3 import *\n",
    "# Your code goes here. Define a function called 'sign'\n",
    "def sign(a):\n",
    "    if(a<0):\n",
    "        return -1\n",
    "    elif(a>0):\n",
    "        return 1\n",
    "    else:\n",
    "        return 0\n",
    "# Check your answer\n",
    "q1.check()"
   ]
  },
  {
   "cell_type": "code",
   "execution_count": 3,
   "id": "13252b12",
   "metadata": {
    "execution": {
     "iopub.execute_input": "2022-04-25T18:47:17.174457Z",
     "iopub.status.busy": "2022-04-25T18:47:17.174169Z",
     "iopub.status.idle": "2022-04-25T18:47:17.177824Z",
     "shell.execute_reply": "2022-04-25T18:47:17.177070Z"
    },
    "papermill": {
     "duration": 0.032197,
     "end_time": "2022-04-25T18:47:17.179497",
     "exception": false,
     "start_time": "2022-04-25T18:47:17.147300",
     "status": "completed"
    },
    "tags": []
   },
   "outputs": [],
   "source": [
    "#q1.solution()"
   ]
  },
  {
   "cell_type": "markdown",
   "id": "2e5f9527",
   "metadata": {
    "papermill": {
     "duration": 0.025807,
     "end_time": "2022-04-25T18:47:17.231620",
     "exception": false,
     "start_time": "2022-04-25T18:47:17.205813",
     "status": "completed"
    },
    "tags": []
   },
   "source": [
    "# 2.\n",
    "\n",
    "We've decided to add \"logging\" to our `to_smash` function from the previous exercise."
   ]
  },
  {
   "cell_type": "code",
   "execution_count": 4,
   "id": "92f09961",
   "metadata": {
    "execution": {
     "iopub.execute_input": "2022-04-25T18:47:17.285250Z",
     "iopub.status.busy": "2022-04-25T18:47:17.284751Z",
     "iopub.status.idle": "2022-04-25T18:47:17.291189Z",
     "shell.execute_reply": "2022-04-25T18:47:17.290640Z"
    },
    "papermill": {
     "duration": 0.035068,
     "end_time": "2022-04-25T18:47:17.292728",
     "exception": false,
     "start_time": "2022-04-25T18:47:17.257660",
     "status": "completed"
    },
    "tags": []
   },
   "outputs": [
    {
     "name": "stdout",
     "output_type": "stream",
     "text": [
      "Splitting 91 candies\n"
     ]
    },
    {
     "data": {
      "text/plain": [
       "1"
      ]
     },
     "execution_count": 4,
     "metadata": {},
     "output_type": "execute_result"
    }
   ],
   "source": [
    "def to_smash(total_candies):\n",
    "    \"\"\"Return the number of leftover candies that must be smashed after distributing\n",
    "    the given number of candies evenly between 3 friends.\n",
    "    \n",
    "    >>> to_smash(91)\n",
    "    1\n",
    "    \"\"\"\n",
    "    print(\"Splitting\", total_candies, \"candies\")\n",
    "    return total_candies % 3\n",
    "\n",
    "to_smash(91)"
   ]
  },
  {
   "cell_type": "markdown",
   "id": "d22ac689",
   "metadata": {
    "papermill": {
     "duration": 0.026298,
     "end_time": "2022-04-25T18:47:17.345768",
     "exception": false,
     "start_time": "2022-04-25T18:47:17.319470",
     "status": "completed"
    },
    "tags": []
   },
   "source": [
    "What happens if we call it with `total_candies = 1`?"
   ]
  },
  {
   "cell_type": "code",
   "execution_count": 5,
   "id": "63bf6efc",
   "metadata": {
    "execution": {
     "iopub.execute_input": "2022-04-25T18:47:17.407460Z",
     "iopub.status.busy": "2022-04-25T18:47:17.406979Z",
     "iopub.status.idle": "2022-04-25T18:47:17.413473Z",
     "shell.execute_reply": "2022-04-25T18:47:17.412157Z"
    },
    "papermill": {
     "duration": 0.03959,
     "end_time": "2022-04-25T18:47:17.415205",
     "exception": false,
     "start_time": "2022-04-25T18:47:17.375615",
     "status": "completed"
    },
    "tags": []
   },
   "outputs": [
    {
     "name": "stdout",
     "output_type": "stream",
     "text": [
      "Splitting 1 candies\n"
     ]
    },
    {
     "data": {
      "text/plain": [
       "1"
      ]
     },
     "execution_count": 5,
     "metadata": {},
     "output_type": "execute_result"
    }
   ],
   "source": [
    "to_smash(1)"
   ]
  },
  {
   "cell_type": "markdown",
   "id": "f74a08c3",
   "metadata": {
    "papermill": {
     "duration": 0.030114,
     "end_time": "2022-04-25T18:47:17.473434",
     "exception": false,
     "start_time": "2022-04-25T18:47:17.443320",
     "status": "completed"
    },
    "tags": []
   },
   "source": [
    "That isn't great grammar!\n",
    "\n",
    "Modify the definition in the cell below to correct the grammar of our print statement. (If there's only one candy, we should use the singular \"candy\" instead of the plural \"candies\")"
   ]
  },
  {
   "cell_type": "code",
   "execution_count": 6,
   "id": "f5b31827",
   "metadata": {
    "execution": {
     "iopub.execute_input": "2022-04-25T18:47:17.530479Z",
     "iopub.status.busy": "2022-04-25T18:47:17.529566Z",
     "iopub.status.idle": "2022-04-25T18:47:17.538304Z",
     "shell.execute_reply": "2022-04-25T18:47:17.537607Z"
    },
    "papermill": {
     "duration": 0.039848,
     "end_time": "2022-04-25T18:47:17.540843",
     "exception": false,
     "start_time": "2022-04-25T18:47:17.500995",
     "status": "completed"
    },
    "tags": []
   },
   "outputs": [
    {
     "name": "stdout",
     "output_type": "stream",
     "text": [
      "Splitting 91 candies\n",
      "Splitting 1 candy\n"
     ]
    },
    {
     "data": {
      "text/plain": [
       "1"
      ]
     },
     "execution_count": 6,
     "metadata": {},
     "output_type": "execute_result"
    }
   ],
   "source": [
    "def to_smash(total_candies):\n",
    "    \"\"\"Return the number of leftover candies that must be smashed after distributing\n",
    "    the given number of candies evenly between 3 friends.\n",
    "    \n",
    "    >>> to_smash(91)\n",
    "    1\n",
    "    \"\"\"\n",
    "    if(total_candies == 1):\n",
    "        print(\"Splitting\", total_candies, \"candy\")\n",
    "    else:\n",
    "        print(\"Splitting\", total_candies, \"candies\")\n",
    "    return total_candies % 3\n",
    "\n",
    "to_smash(91)\n",
    "to_smash(1)"
   ]
  },
  {
   "cell_type": "markdown",
   "id": "95052d54",
   "metadata": {
    "papermill": {
     "duration": 0.028636,
     "end_time": "2022-04-25T18:47:17.599254",
     "exception": false,
     "start_time": "2022-04-25T18:47:17.570618",
     "status": "completed"
    },
    "tags": []
   },
   "source": [
    "To get credit for completing this problem, and to see the official answer, run the code cell below."
   ]
  },
  {
   "cell_type": "code",
   "execution_count": 7,
   "id": "76072033",
   "metadata": {
    "execution": {
     "iopub.execute_input": "2022-04-25T18:47:17.659221Z",
     "iopub.status.busy": "2022-04-25T18:47:17.658488Z",
     "iopub.status.idle": "2022-04-25T18:47:17.665224Z",
     "shell.execute_reply": "2022-04-25T18:47:17.664482Z"
    },
    "papermill": {
     "duration": 0.03834,
     "end_time": "2022-04-25T18:47:17.666857",
     "exception": false,
     "start_time": "2022-04-25T18:47:17.628517",
     "status": "completed"
    },
    "tags": []
   },
   "outputs": [
    {
     "data": {
      "application/javascript": [
       "parent.postMessage({\"jupyterEvent\": \"custom.exercise_interaction\", \"data\": {\"interactionType\": 3, \"questionType\": 4, \"questionId\": \"2_PluralizationProblem\", \"learnToolsVersion\": \"0.3.4\", \"valueTowardsCompletion\": 0.0, \"failureMessage\": \"\", \"exceptionClass\": \"\", \"trace\": \"\", \"outcomeType\": 4}}, \"*\")"
      ],
      "text/plain": [
       "<IPython.core.display.Javascript object>"
      ]
     },
     "metadata": {},
     "output_type": "display_data"
    },
    {
     "data": {
      "text/markdown": [
       "<span style=\"color:#33cc99\">Solution:</span> A straightforward (and totally fine) solution is to replace the original `print` call with:\n",
       "\n",
       "```python\n",
       "if total_candies == 1:\n",
       "    print(\"Splitting 1 candy\")\n",
       "else:\n",
       "    print(\"Splitting\", total_candies, \"candies\")\n",
       "```\n",
       "\n",
       "Here's a slightly more succinct solution using a conditional expression:\n",
       "\n",
       "```python\n",
       "print(\"Splitting\", total_candies, \"candy\" if total_candies == 1 else \"candies\")\n",
       "```"
      ],
      "text/plain": [
       "Solution: A straightforward (and totally fine) solution is to replace the original `print` call with:\n",
       "\n",
       "```python\n",
       "if total_candies == 1:\n",
       "    print(\"Splitting 1 candy\")\n",
       "else:\n",
       "    print(\"Splitting\", total_candies, \"candies\")\n",
       "```\n",
       "\n",
       "Here's a slightly more succinct solution using a conditional expression:\n",
       "\n",
       "```python\n",
       "print(\"Splitting\", total_candies, \"candy\" if total_candies == 1 else \"candies\")\n",
       "```"
      ]
     },
     "metadata": {},
     "output_type": "display_data"
    }
   ],
   "source": [
    "# Check your answer (Run this code cell to receive credit!)\n",
    "q2.solution()"
   ]
  },
  {
   "cell_type": "markdown",
   "id": "d92b95c9",
   "metadata": {
    "papermill": {
     "duration": 0.02866,
     "end_time": "2022-04-25T18:47:17.724670",
     "exception": false,
     "start_time": "2022-04-25T18:47:17.696010",
     "status": "completed"
    },
    "tags": []
   },
   "source": [
    "# 3. <span title=\"A bit spicy\" style=\"color: darkgreen \">🌶️</span>\n",
    "\n",
    "In the tutorial, we talked about deciding whether we're prepared for the weather. I said that I'm safe from today's weather if...\n",
    "- I have an umbrella...\n",
    "- or if the rain isn't too heavy and I have a hood...\n",
    "- otherwise, I'm still fine unless it's raining *and* it's a workday\n",
    "\n",
    "The function below uses our first attempt at turning this logic into a Python expression. I claimed that there was a bug in that code. Can you find it?\n",
    "\n",
    "To prove that `prepared_for_weather` is buggy, come up with a set of inputs where either:\n",
    "- the function returns `False` (but should have returned `True`), or\n",
    "- the function returned `True` (but should have returned `False`).\n",
    "\n",
    "To get credit for completing this question, your code should return a <font color='#33cc33'>Correct</font> result."
   ]
  },
  {
   "cell_type": "code",
   "execution_count": 8,
   "id": "634114fa",
   "metadata": {
    "execution": {
     "iopub.execute_input": "2022-04-25T18:47:17.784940Z",
     "iopub.status.busy": "2022-04-25T18:47:17.784462Z",
     "iopub.status.idle": "2022-04-25T18:47:17.793742Z",
     "shell.execute_reply": "2022-04-25T18:47:17.792872Z"
    },
    "papermill": {
     "duration": 0.041315,
     "end_time": "2022-04-25T18:47:17.795326",
     "exception": false,
     "start_time": "2022-04-25T18:47:17.754011",
     "status": "completed"
    },
    "tags": []
   },
   "outputs": [
    {
     "name": "stdout",
     "output_type": "stream",
     "text": [
      "True\n"
     ]
    },
    {
     "data": {
      "application/javascript": [
       "parent.postMessage({\"jupyterEvent\": \"custom.exercise_interaction\", \"data\": {\"outcomeType\": 1, \"valueTowardsCompletion\": 0.2, \"interactionType\": 1, \"questionType\": 1, \"questionId\": \"3_WeatherDebug\", \"learnToolsVersion\": \"0.3.4\", \"failureMessage\": \"\", \"exceptionClass\": \"\", \"trace\": \"\"}}, \"*\")"
      ],
      "text/plain": [
       "<IPython.core.display.Javascript object>"
      ]
     },
     "metadata": {},
     "output_type": "display_data"
    },
    {
     "data": {
      "text/markdown": [
       "<span style=\"color:#33cc33\">Correct:</span> \n",
       "\n",
       "One example of a failing test case is:\n",
       "\n",
       "```python\n",
       "have_umbrella = False\n",
       "rain_level = 0.0\n",
       "have_hood = False\n",
       "is_workday = False\n",
       "```\n",
       "\n",
       "Clearly we're prepared for the weather in this case. It's not raining. Not only that, it's not a workday, so we don't even need to leave the house! But our function will return False on these inputs.\n",
       "\n",
       "The key problem is that Python implictly parenthesizes the last part as:\n",
       "\n",
       "```python\n",
       "(not (rain_level > 0)) and is_workday\n",
       "```\n",
       "\n",
       "Whereas what we were trying to express would look more like:\n",
       "\n",
       "```python\n",
       "not (rain_level > 0 and is_workday)\n",
       "```\n"
      ],
      "text/plain": [
       "Correct: \n",
       "\n",
       "One example of a failing test case is:\n",
       "\n",
       "```python\n",
       "have_umbrella = False\n",
       "rain_level = 0.0\n",
       "have_hood = False\n",
       "is_workday = False\n",
       "```\n",
       "\n",
       "Clearly we're prepared for the weather in this case. It's not raining. Not only that, it's not a workday, so we don't even need to leave the house! But our function will return False on these inputs.\n",
       "\n",
       "The key problem is that Python implictly parenthesizes the last part as:\n",
       "\n",
       "```python\n",
       "(not (rain_level > 0)) and is_workday\n",
       "```\n",
       "\n",
       "Whereas what we were trying to express would look more like:\n",
       "\n",
       "```python\n",
       "not (rain_level > 0 and is_workday)\n",
       "```"
      ]
     },
     "metadata": {},
     "output_type": "display_data"
    }
   ],
   "source": [
    "def prepared_for_weather(have_umbrella, rain_level, have_hood, is_workday):\n",
    "    # Don't change this code. Our goal is just to find the bug, not fix it!\n",
    "    return have_umbrella or rain_level < 5 and have_hood or not (rain_level > 0 and is_workday)\n",
    "\n",
    "# Change the values of these inputs so they represent a case where prepared_for_weather\n",
    "# returns the wrong answer.\n",
    "have_umbrella = False\n",
    "rain_level = 0.0\n",
    "have_hood = False\n",
    "is_workday = False\n",
    "\n",
    "# Check what the function returns given the current values of the variables above\n",
    "actual = prepared_for_weather(have_umbrella, rain_level, have_hood, is_workday)\n",
    "print(actual)\n",
    "\n",
    "# Check your answer\n",
    "q3.check()"
   ]
  },
  {
   "cell_type": "code",
   "execution_count": 9,
   "id": "13004379",
   "metadata": {
    "execution": {
     "iopub.execute_input": "2022-04-25T18:47:17.868700Z",
     "iopub.status.busy": "2022-04-25T18:47:17.868061Z",
     "iopub.status.idle": "2022-04-25T18:47:17.875158Z",
     "shell.execute_reply": "2022-04-25T18:47:17.874480Z"
    },
    "papermill": {
     "duration": 0.046371,
     "end_time": "2022-04-25T18:47:17.876843",
     "exception": false,
     "start_time": "2022-04-25T18:47:17.830472",
     "status": "completed"
    },
    "tags": []
   },
   "outputs": [
    {
     "data": {
      "application/javascript": [
       "parent.postMessage({\"jupyterEvent\": \"custom.exercise_interaction\", \"data\": {\"interactionType\": 3, \"questionType\": 1, \"questionId\": \"3_WeatherDebug\", \"learnToolsVersion\": \"0.3.4\", \"valueTowardsCompletion\": 0.0, \"failureMessage\": \"\", \"exceptionClass\": \"\", \"trace\": \"\", \"outcomeType\": 4}}, \"*\")"
      ],
      "text/plain": [
       "<IPython.core.display.Javascript object>"
      ]
     },
     "metadata": {},
     "output_type": "display_data"
    },
    {
     "data": {
      "text/markdown": [
       "<span style=\"color:#33cc99\">Solution:</span> One example of a failing test case is:\n",
       "\n",
       "```python\n",
       "have_umbrella = False\n",
       "rain_level = 0.0\n",
       "have_hood = False\n",
       "is_workday = False\n",
       "```\n",
       "\n",
       "Clearly we're prepared for the weather in this case. It's not raining. Not only that, it's not a workday, so we don't even need to leave the house! But our function will return False on these inputs.\n",
       "\n",
       "The key problem is that Python implictly parenthesizes the last part as:\n",
       "\n",
       "```python\n",
       "(not (rain_level > 0)) and is_workday\n",
       "```\n",
       "\n",
       "Whereas what we were trying to express would look more like:\n",
       "\n",
       "```python\n",
       "not (rain_level > 0 and is_workday)\n",
       "```\n"
      ],
      "text/plain": [
       "Solution: One example of a failing test case is:\n",
       "\n",
       "```python\n",
       "have_umbrella = False\n",
       "rain_level = 0.0\n",
       "have_hood = False\n",
       "is_workday = False\n",
       "```\n",
       "\n",
       "Clearly we're prepared for the weather in this case. It's not raining. Not only that, it's not a workday, so we don't even need to leave the house! But our function will return False on these inputs.\n",
       "\n",
       "The key problem is that Python implictly parenthesizes the last part as:\n",
       "\n",
       "```python\n",
       "(not (rain_level > 0)) and is_workday\n",
       "```\n",
       "\n",
       "Whereas what we were trying to express would look more like:\n",
       "\n",
       "```python\n",
       "not (rain_level > 0 and is_workday)\n",
       "```"
      ]
     },
     "metadata": {},
     "output_type": "display_data"
    }
   ],
   "source": [
    "#q3.hint()\n",
    "q3.solution()"
   ]
  },
  {
   "cell_type": "markdown",
   "id": "3153c30a",
   "metadata": {
    "papermill": {
     "duration": 0.033336,
     "end_time": "2022-04-25T18:47:17.947520",
     "exception": false,
     "start_time": "2022-04-25T18:47:17.914184",
     "status": "completed"
    },
    "tags": []
   },
   "source": [
    "# 4.\n",
    "\n",
    "The function `is_negative` below is implemented correctly - it returns True if the given number is negative and False otherwise.\n",
    "\n",
    "However, it's more verbose than it needs to be. We can actually reduce the number of lines of code in this function by *75%* while keeping the same behaviour. \n",
    "\n",
    "See if you can come up with an equivalent body that uses just **one line** of code, and put it in the function `concise_is_negative`. (HINT: you don't even need Python's ternary syntax)"
   ]
  },
  {
   "cell_type": "code",
   "execution_count": 10,
   "id": "abd2bd85",
   "metadata": {
    "execution": {
     "iopub.execute_input": "2022-04-25T18:47:18.013586Z",
     "iopub.status.busy": "2022-04-25T18:47:18.013064Z",
     "iopub.status.idle": "2022-04-25T18:47:18.020634Z",
     "shell.execute_reply": "2022-04-25T18:47:18.019898Z"
    },
    "papermill": {
     "duration": 0.042362,
     "end_time": "2022-04-25T18:47:18.022296",
     "exception": false,
     "start_time": "2022-04-25T18:47:17.979934",
     "status": "completed"
    },
    "tags": []
   },
   "outputs": [
    {
     "data": {
      "application/javascript": [
       "parent.postMessage({\"jupyterEvent\": \"custom.exercise_interaction\", \"data\": {\"outcomeType\": 1, \"valueTowardsCompletion\": 0.2, \"interactionType\": 1, \"questionType\": 2, \"questionId\": \"4_ConciseIsNegative\", \"learnToolsVersion\": \"0.3.4\", \"failureMessage\": \"\", \"exceptionClass\": \"\", \"trace\": \"\"}}, \"*\")"
      ],
      "text/plain": [
       "<IPython.core.display.Javascript object>"
      ]
     },
     "metadata": {},
     "output_type": "display_data"
    },
    {
     "data": {
      "text/markdown": [
       "<span style=\"color:#33cc33\">Correct</span>"
      ],
      "text/plain": [
       "Correct"
      ]
     },
     "metadata": {},
     "output_type": "display_data"
    }
   ],
   "source": [
    "from learntools.core import binder; binder.bind(globals())\n",
    "from learntools.python.ex3 import *\n",
    "def is_negative(number):\n",
    "    if number<0:\n",
    "        print(\"True\")\n",
    "    else:\n",
    "        print(\"False\")\n",
    "\n",
    "def concise_is_negative(number):\n",
    "    pass # Your code goes here (try to keep it to one line!)\n",
    "    a = True if number < 0 else False\n",
    "    return a\n",
    "# Check your answer\n",
    "q4.check()"
   ]
  },
  {
   "cell_type": "code",
   "execution_count": 11,
   "id": "f2473ed4",
   "metadata": {
    "execution": {
     "iopub.execute_input": "2022-04-25T18:47:18.088112Z",
     "iopub.status.busy": "2022-04-25T18:47:18.087493Z",
     "iopub.status.idle": "2022-04-25T18:47:18.091232Z",
     "shell.execute_reply": "2022-04-25T18:47:18.090571Z"
    },
    "papermill": {
     "duration": 0.038714,
     "end_time": "2022-04-25T18:47:18.092933",
     "exception": false,
     "start_time": "2022-04-25T18:47:18.054219",
     "status": "completed"
    },
    "tags": []
   },
   "outputs": [],
   "source": [
    "#q4.hint()\n",
    "#q4.solution()"
   ]
  },
  {
   "cell_type": "markdown",
   "id": "85363630",
   "metadata": {
    "papermill": {
     "duration": 0.031937,
     "end_time": "2022-04-25T18:47:18.157505",
     "exception": false,
     "start_time": "2022-04-25T18:47:18.125568",
     "status": "completed"
    },
    "tags": []
   },
   "source": [
    "# 5a.\n",
    "\n",
    "The boolean variables `ketchup`, `mustard` and `onion` represent whether a customer wants a particular topping on their hot dog. We want to implement a number of boolean functions that correspond to some yes-or-no questions about the customer's order. For example:"
   ]
  },
  {
   "cell_type": "code",
   "execution_count": 12,
   "id": "9a2d97a3",
   "metadata": {
    "execution": {
     "iopub.execute_input": "2022-04-25T18:47:18.223738Z",
     "iopub.status.busy": "2022-04-25T18:47:18.223491Z",
     "iopub.status.idle": "2022-04-25T18:47:18.227099Z",
     "shell.execute_reply": "2022-04-25T18:47:18.226267Z"
    },
    "papermill": {
     "duration": 0.039114,
     "end_time": "2022-04-25T18:47:18.228865",
     "exception": false,
     "start_time": "2022-04-25T18:47:18.189751",
     "status": "completed"
    },
    "tags": []
   },
   "outputs": [],
   "source": [
    "def onionless(ketchup, mustard, onion):\n",
    "    \"\"\"Return whether the customer doesn't want onions.\n",
    "    \"\"\"\n",
    "    return not onion"
   ]
  },
  {
   "cell_type": "code",
   "execution_count": 13,
   "id": "bd194819",
   "metadata": {
    "execution": {
     "iopub.execute_input": "2022-04-25T18:47:18.295249Z",
     "iopub.status.busy": "2022-04-25T18:47:18.294988Z",
     "iopub.status.idle": "2022-04-25T18:47:18.301903Z",
     "shell.execute_reply": "2022-04-25T18:47:18.301155Z"
    },
    "papermill": {
     "duration": 0.04211,
     "end_time": "2022-04-25T18:47:18.303612",
     "exception": false,
     "start_time": "2022-04-25T18:47:18.261502",
     "status": "completed"
    },
    "tags": []
   },
   "outputs": [
    {
     "data": {
      "application/javascript": [
       "parent.postMessage({\"jupyterEvent\": \"custom.exercise_interaction\", \"data\": {\"outcomeType\": 1, \"valueTowardsCompletion\": 0.2, \"interactionType\": 1, \"questionType\": 2, \"questionId\": \"5.1_AllToppings\", \"learnToolsVersion\": \"0.3.4\", \"failureMessage\": \"\", \"exceptionClass\": \"\", \"trace\": \"\"}}, \"*\")"
      ],
      "text/plain": [
       "<IPython.core.display.Javascript object>"
      ]
     },
     "metadata": {},
     "output_type": "display_data"
    },
    {
     "data": {
      "text/markdown": [
       "<span style=\"color:#33cc33\">Correct</span>"
      ],
      "text/plain": [
       "Correct"
      ]
     },
     "metadata": {},
     "output_type": "display_data"
    }
   ],
   "source": [
    "def wants_all_toppings(ketchup, mustard, onion):\n",
    "    \"\"\"Return whether the customer wants \"the works\" (all 3 toppings)\n",
    "    \"\"\"\n",
    "    pass\n",
    "    return ketchup and mustard and onion\n",
    "# Check your answer\n",
    "q5.a.check()"
   ]
  },
  {
   "cell_type": "code",
   "execution_count": 14,
   "id": "4ca48cb9",
   "metadata": {
    "execution": {
     "iopub.execute_input": "2022-04-25T18:47:18.372801Z",
     "iopub.status.busy": "2022-04-25T18:47:18.372086Z",
     "iopub.status.idle": "2022-04-25T18:47:18.378689Z",
     "shell.execute_reply": "2022-04-25T18:47:18.377932Z"
    },
    "papermill": {
     "duration": 0.043106,
     "end_time": "2022-04-25T18:47:18.380423",
     "exception": false,
     "start_time": "2022-04-25T18:47:18.337317",
     "status": "completed"
    },
    "tags": []
   },
   "outputs": [
    {
     "data": {
      "application/javascript": [
       "parent.postMessage({\"jupyterEvent\": \"custom.exercise_interaction\", \"data\": {\"interactionType\": 3, \"questionType\": 2, \"questionId\": \"5.1_AllToppings\", \"learnToolsVersion\": \"0.3.4\", \"valueTowardsCompletion\": 0.0, \"failureMessage\": \"\", \"exceptionClass\": \"\", \"trace\": \"\", \"outcomeType\": 4}}, \"*\")"
      ],
      "text/plain": [
       "<IPython.core.display.Javascript object>"
      ]
     },
     "metadata": {},
     "output_type": "display_data"
    },
    {
     "data": {
      "text/markdown": [
       "<span style=\"color:#33cc99\">Solution:</span> \n",
       "```python\n",
       "return ketchup and mustard and onion\n",
       "```"
      ],
      "text/plain": [
       "Solution: \n",
       "```python\n",
       "return ketchup and mustard and onion\n",
       "```"
      ]
     },
     "metadata": {},
     "output_type": "display_data"
    }
   ],
   "source": [
    "#q5.a.hint()\n",
    "q5.a.solution()"
   ]
  },
  {
   "cell_type": "markdown",
   "id": "11d52934",
   "metadata": {
    "papermill": {
     "duration": 0.034393,
     "end_time": "2022-04-25T18:47:18.449405",
     "exception": false,
     "start_time": "2022-04-25T18:47:18.415012",
     "status": "completed"
    },
    "tags": []
   },
   "source": [
    "# 5b.\n",
    "\n",
    "For the next function, fill in the body to match the English description in the docstring. "
   ]
  },
  {
   "cell_type": "code",
   "execution_count": 15,
   "id": "966cbcce",
   "metadata": {
    "execution": {
     "iopub.execute_input": "2022-04-25T18:47:18.519904Z",
     "iopub.status.busy": "2022-04-25T18:47:18.519618Z",
     "iopub.status.idle": "2022-04-25T18:47:18.526865Z",
     "shell.execute_reply": "2022-04-25T18:47:18.526094Z"
    },
    "papermill": {
     "duration": 0.044741,
     "end_time": "2022-04-25T18:47:18.528594",
     "exception": false,
     "start_time": "2022-04-25T18:47:18.483853",
     "status": "completed"
    },
    "tags": []
   },
   "outputs": [
    {
     "data": {
      "application/javascript": [
       "parent.postMessage({\"jupyterEvent\": \"custom.exercise_interaction\", \"data\": {\"outcomeType\": 1, \"valueTowardsCompletion\": 0.2, \"interactionType\": 1, \"questionType\": 2, \"questionId\": \"5.2_PlainDog\", \"learnToolsVersion\": \"0.3.4\", \"failureMessage\": \"\", \"exceptionClass\": \"\", \"trace\": \"\"}}, \"*\")"
      ],
      "text/plain": [
       "<IPython.core.display.Javascript object>"
      ]
     },
     "metadata": {},
     "output_type": "display_data"
    },
    {
     "data": {
      "text/markdown": [
       "<span style=\"color:#33cc33\">Correct:</span> \n",
       "\n",
       "One solution looks like:\n",
       "```python\n",
       "return not ketchup and not mustard and not onion\n",
       "```\n",
       "\n",
       "We can also [\"factor out\" the nots](https://en.wikipedia.org/wiki/De_Morgan%27s_laws) to get:\n",
       "\n",
       "```python\n",
       "return not (ketchup or mustard or onion)\n",
       "```"
      ],
      "text/plain": [
       "Correct: \n",
       "\n",
       "One solution looks like:\n",
       "```python\n",
       "return not ketchup and not mustard and not onion\n",
       "```\n",
       "\n",
       "We can also [\"factor out\" the nots](https://en.wikipedia.org/wiki/De_Morgan%27s_laws) to get:\n",
       "\n",
       "```python\n",
       "return not (ketchup or mustard or onion)\n",
       "```"
      ]
     },
     "metadata": {},
     "output_type": "display_data"
    }
   ],
   "source": [
    "def wants_plain_hotdog(ketchup, mustard, onion):\n",
    "    \"\"\"Return whether the customer wants a plain hot dog with no toppings.\n",
    "    \"\"\"\n",
    "    pass\n",
    "    return not (ketchup) and not(mustard) and not(onion)\n",
    "# Check your answer\n",
    "q5.b.check()"
   ]
  },
  {
   "cell_type": "code",
   "execution_count": 16,
   "id": "ada7a76d",
   "metadata": {
    "execution": {
     "iopub.execute_input": "2022-04-25T18:47:18.600229Z",
     "iopub.status.busy": "2022-04-25T18:47:18.599821Z",
     "iopub.status.idle": "2022-04-25T18:47:18.603026Z",
     "shell.execute_reply": "2022-04-25T18:47:18.602411Z"
    },
    "papermill": {
     "duration": 0.041113,
     "end_time": "2022-04-25T18:47:18.604608",
     "exception": false,
     "start_time": "2022-04-25T18:47:18.563495",
     "status": "completed"
    },
    "tags": []
   },
   "outputs": [],
   "source": [
    "#q5.b.hint()\n",
    "#q5.b.solution()"
   ]
  },
  {
   "cell_type": "markdown",
   "id": "e34b3248",
   "metadata": {
    "papermill": {
     "duration": 0.035318,
     "end_time": "2022-04-25T18:47:18.675026",
     "exception": false,
     "start_time": "2022-04-25T18:47:18.639708",
     "status": "completed"
    },
    "tags": []
   },
   "source": [
    "# 5c.\n",
    "\n",
    "You know what to do: for the next function, fill in the body to match the English description in the docstring."
   ]
  },
  {
   "cell_type": "code",
   "execution_count": 17,
   "id": "94dff22d",
   "metadata": {
    "execution": {
     "iopub.execute_input": "2022-04-25T18:47:18.746763Z",
     "iopub.status.busy": "2022-04-25T18:47:18.746477Z",
     "iopub.status.idle": "2022-04-25T18:47:18.753412Z",
     "shell.execute_reply": "2022-04-25T18:47:18.752660Z"
    },
    "papermill": {
     "duration": 0.045018,
     "end_time": "2022-04-25T18:47:18.755064",
     "exception": false,
     "start_time": "2022-04-25T18:47:18.710046",
     "status": "completed"
    },
    "tags": []
   },
   "outputs": [
    {
     "data": {
      "application/javascript": [
       "parent.postMessage({\"jupyterEvent\": \"custom.exercise_interaction\", \"data\": {\"outcomeType\": 1, \"valueTowardsCompletion\": 0.2, \"interactionType\": 1, \"questionType\": 2, \"questionId\": \"5.3_OneSauce\", \"learnToolsVersion\": \"0.3.4\", \"failureMessage\": \"\", \"exceptionClass\": \"\", \"trace\": \"\"}}, \"*\")"
      ],
      "text/plain": [
       "<IPython.core.display.Javascript object>"
      ]
     },
     "metadata": {},
     "output_type": "display_data"
    },
    {
     "data": {
      "text/markdown": [
       "<span style=\"color:#33cc33\">Correct</span>"
      ],
      "text/plain": [
       "Correct"
      ]
     },
     "metadata": {},
     "output_type": "display_data"
    }
   ],
   "source": [
    "def exactly_one_sauce(ketchup, mustard, onion):\n",
    "    \"\"\"Return whether the customer wants either ketchup or mustard, but not both.\n",
    "    (You may be familiar with this operation under the name \"exclusive or\")\n",
    "    \"\"\"\n",
    "    pass\n",
    "    return (ketchup and not mustard) or (mustard and not ketchup)\n",
    "    \n",
    "# Check your answer\n",
    "q5.c.check()"
   ]
  },
  {
   "cell_type": "code",
   "execution_count": 18,
   "id": "57d8ad8c",
   "metadata": {
    "execution": {
     "iopub.execute_input": "2022-04-25T18:47:18.830635Z",
     "iopub.status.busy": "2022-04-25T18:47:18.830196Z",
     "iopub.status.idle": "2022-04-25T18:47:18.837133Z",
     "shell.execute_reply": "2022-04-25T18:47:18.836386Z"
    },
    "papermill": {
     "duration": 0.047251,
     "end_time": "2022-04-25T18:47:18.838918",
     "exception": false,
     "start_time": "2022-04-25T18:47:18.791667",
     "status": "completed"
    },
    "tags": []
   },
   "outputs": [
    {
     "data": {
      "application/javascript": [
       "parent.postMessage({\"jupyterEvent\": \"custom.exercise_interaction\", \"data\": {\"interactionType\": 3, \"questionType\": 2, \"questionId\": \"5.3_OneSauce\", \"learnToolsVersion\": \"0.3.4\", \"valueTowardsCompletion\": 0.0, \"failureMessage\": \"\", \"exceptionClass\": \"\", \"trace\": \"\", \"outcomeType\": 4}}, \"*\")"
      ],
      "text/plain": [
       "<IPython.core.display.Javascript object>"
      ]
     },
     "metadata": {},
     "output_type": "display_data"
    },
    {
     "data": {
      "text/markdown": [
       "<span style=\"color:#33cc99\">Solution:</span> \n",
       "```python\n",
       "return (ketchup and not mustard) or (mustard and not ketchup)\n",
       "```"
      ],
      "text/plain": [
       "Solution: \n",
       "```python\n",
       "return (ketchup and not mustard) or (mustard and not ketchup)\n",
       "```"
      ]
     },
     "metadata": {},
     "output_type": "display_data"
    }
   ],
   "source": [
    "#q5.c.hint()\n",
    "q5.c.solution()"
   ]
  },
  {
   "cell_type": "markdown",
   "id": "8da75d23",
   "metadata": {
    "papermill": {
     "duration": 0.036813,
     "end_time": "2022-04-25T18:47:18.913185",
     "exception": false,
     "start_time": "2022-04-25T18:47:18.876372",
     "status": "completed"
    },
    "tags": []
   },
   "source": [
    "# 6. <span title=\"A bit spicy\" style=\"color: darkgreen \">🌶️</span>\n",
    "\n",
    "We’ve seen that calling `bool()` on an integer returns `False` if it’s equal to 0 and `True` otherwise. What happens if we call `int()` on a bool? Try it out in the notebook cell below.\n",
    "\n",
    "Can you take advantage of this to write a succinct function that corresponds to the English sentence \"does the customer want exactly one topping?\"?"
   ]
  },
  {
   "cell_type": "code",
   "execution_count": 19,
   "id": "4a3c2ce3",
   "metadata": {
    "execution": {
     "iopub.execute_input": "2022-04-25T18:47:19.011039Z",
     "iopub.status.busy": "2022-04-25T18:47:19.010438Z",
     "iopub.status.idle": "2022-04-25T18:47:19.022794Z",
     "shell.execute_reply": "2022-04-25T18:47:19.021586Z"
    },
    "papermill": {
     "duration": 0.067096,
     "end_time": "2022-04-25T18:47:19.025779",
     "exception": false,
     "start_time": "2022-04-25T18:47:18.958683",
     "status": "completed"
    },
    "tags": []
   },
   "outputs": [
    {
     "data": {
      "application/javascript": [
       "parent.postMessage({\"jupyterEvent\": \"custom.exercise_interaction\", \"data\": {\"outcomeType\": 1, \"valueTowardsCompletion\": 0.2, \"interactionType\": 1, \"questionType\": 2, \"questionId\": \"6_OneTopping\", \"learnToolsVersion\": \"0.3.4\", \"failureMessage\": \"\", \"exceptionClass\": \"\", \"trace\": \"\"}}, \"*\")"
      ],
      "text/plain": [
       "<IPython.core.display.Javascript object>"
      ]
     },
     "metadata": {},
     "output_type": "display_data"
    },
    {
     "data": {
      "text/markdown": [
       "<span style=\"color:#33cc33\">Correct:</span> \n",
       "\n",
       "This condition would be pretty complicated to express using just `and`, `or` and `not`, but using boolean-to-integer conversion gives us this short solution:\n",
       "```python\n",
       "return (int(ketchup) + int(mustard) + int(onion)) == 1\n",
       "```\n",
       "\n",
       "Fun fact: we don't technically need to call `int` on the arguments. Just by doing addition with booleans, Python implicitly does the integer conversion. So we could also write...\n",
       "\n",
       "```python\n",
       "return (ketchup + mustard + onion) == 1\n",
       "```"
      ],
      "text/plain": [
       "Correct: \n",
       "\n",
       "This condition would be pretty complicated to express using just `and`, `or` and `not`, but using boolean-to-integer conversion gives us this short solution:\n",
       "```python\n",
       "return (int(ketchup) + int(mustard) + int(onion)) == 1\n",
       "```\n",
       "\n",
       "Fun fact: we don't technically need to call `int` on the arguments. Just by doing addition with booleans, Python implicitly does the integer conversion. So we could also write...\n",
       "\n",
       "```python\n",
       "return (ketchup + mustard + onion) == 1\n",
       "```"
      ]
     },
     "metadata": {},
     "output_type": "display_data"
    }
   ],
   "source": [
    "def exactly_one_topping(ketchup, mustard, onion):\n",
    "    \"\"\"Return whether the customer wants exactly one of the three available toppings\n",
    "    on their hot dog.\n",
    "    \"\"\"\n",
    "    pass\n",
    "    a= int(ketchup)+int(mustard)+int(onion)\n",
    "    if a==1:\n",
    "        return True\n",
    "    else:\n",
    "        return False\n",
    "# Check your answer\n",
    "q6.check()"
   ]
  },
  {
   "cell_type": "code",
   "execution_count": 20,
   "id": "ca37840c",
   "metadata": {
    "execution": {
     "iopub.execute_input": "2022-04-25T18:47:19.109332Z",
     "iopub.status.busy": "2022-04-25T18:47:19.108829Z",
     "iopub.status.idle": "2022-04-25T18:47:19.112203Z",
     "shell.execute_reply": "2022-04-25T18:47:19.111617Z"
    },
    "papermill": {
     "duration": 0.045368,
     "end_time": "2022-04-25T18:47:19.113994",
     "exception": false,
     "start_time": "2022-04-25T18:47:19.068626",
     "status": "completed"
    },
    "tags": []
   },
   "outputs": [],
   "source": [
    "#q6.hint()\n",
    "#q6.solution()"
   ]
  },
  {
   "cell_type": "markdown",
   "id": "a572c638",
   "metadata": {
    "papermill": {
     "duration": 0.038082,
     "end_time": "2022-04-25T18:47:19.190329",
     "exception": false,
     "start_time": "2022-04-25T18:47:19.152247",
     "status": "completed"
    },
    "tags": []
   },
   "source": [
    "# 7. <span title=\"A bit spicy\" style=\"color: darkgreen \">🌶️</span> (Optional)\n",
    "\n",
    "In this problem we'll be working with a simplified version of [blackjack](https://en.wikipedia.org/wiki/Blackjack) (aka twenty-one). In this version there is one player (who you'll control) and a dealer. Play proceeds as follows:\n",
    "\n",
    "- The player is dealt two face-up cards. The dealer is dealt one face-up card.\n",
    "- The player may ask to be dealt another card ('hit') as many times as they wish. If the sum of their cards exceeds 21, they lose the round immediately.\n",
    "- The dealer then deals additional cards to himself until either:\n",
    "    - the sum of the dealer's cards exceeds 21, in which case the player wins the round\n",
    "    - the sum of the dealer's cards is greater than or equal to 17. If the player's total is greater than the dealer's, the player wins. Otherwise, the dealer wins (even in case of a tie).\n",
    "    \n",
    "When calculating the sum of cards, Jack, Queen, and King count for 10. Aces can count as 1 or 11 (when referring to a player's \"total\" above, we mean the largest total that can be made without exceeding 21. So e.g. A+8 = 19, A+8+8 = 17)\n",
    "\n",
    "For this problem, you'll write a function representing the player's decision-making strategy in this game. We've provided a very unintelligent implementation below:"
   ]
  },
  {
   "cell_type": "code",
   "execution_count": 21,
   "id": "f325e735",
   "metadata": {
    "execution": {
     "iopub.execute_input": "2022-04-25T18:47:19.268063Z",
     "iopub.status.busy": "2022-04-25T18:47:19.267543Z",
     "iopub.status.idle": "2022-04-25T18:47:19.271895Z",
     "shell.execute_reply": "2022-04-25T18:47:19.271385Z"
    },
    "papermill": {
     "duration": 0.045261,
     "end_time": "2022-04-25T18:47:19.273592",
     "exception": false,
     "start_time": "2022-04-25T18:47:19.228331",
     "status": "completed"
    },
    "tags": []
   },
   "outputs": [],
   "source": [
    "def should_hit(dealer_total, player_total, player_low_aces, player_high_aces):\n",
    "    \"\"\"Return True if the player should hit (request another card) given the current game\n",
    "    state, or False if the player should stay.\n",
    "    When calculating a hand's total value, we count aces as \"high\" (with value 11) if doing so\n",
    "    doesn't bring the total above 21, otherwise we count them as low (with value 1). \n",
    "    For example, if the player's hand is {A, A, A, 7}, we will count it as 11 + 1 + 1 + 7,\n",
    "    and therefore set player_total=20, player_low_aces=2, player_high_aces=1.\n",
    "    \"\"\"\n",
    "    return False"
   ]
  },
  {
   "cell_type": "markdown",
   "id": "366e9378",
   "metadata": {
    "papermill": {
     "duration": 0.037978,
     "end_time": "2022-04-25T18:47:19.349801",
     "exception": false,
     "start_time": "2022-04-25T18:47:19.311823",
     "status": "completed"
    },
    "tags": []
   },
   "source": [
    "This very conservative agent *always* sticks with the hand of two cards that they're dealt.\n",
    "\n",
    "We'll be simulating games between your player agent and our own dealer agent by calling your function.\n",
    "\n",
    "Try running the function below to see an example of a simulated game:"
   ]
  },
  {
   "cell_type": "code",
   "execution_count": 22,
   "id": "8adce870",
   "metadata": {
    "execution": {
     "iopub.execute_input": "2022-04-25T18:47:19.427643Z",
     "iopub.status.busy": "2022-04-25T18:47:19.427095Z",
     "iopub.status.idle": "2022-04-25T18:47:19.433112Z",
     "shell.execute_reply": "2022-04-25T18:47:19.432049Z"
    },
    "papermill": {
     "duration": 0.046816,
     "end_time": "2022-04-25T18:47:19.434745",
     "exception": false,
     "start_time": "2022-04-25T18:47:19.387929",
     "status": "completed"
    },
    "tags": []
   },
   "outputs": [
    {
     "name": "stdout",
     "output_type": "stream",
     "text": [
      "Player starts with 3 and J (total = 13)\n",
      "Dealer starts with 5\n",
      "\n",
      "__Player's turn__\n",
      "Player stays\n",
      "\n",
      "__Dealer's turn__\n",
      "Dealer hits and receives J. (total = 15)\n",
      "Dealer hits and receives 9. (total = 24)\n",
      "Dealer busts! Player wins.\n"
     ]
    }
   ],
   "source": [
    "q7.simulate_one_game()"
   ]
  },
  {
   "cell_type": "markdown",
   "id": "ce2ba7ea",
   "metadata": {
    "papermill": {
     "duration": 0.037903,
     "end_time": "2022-04-25T18:47:19.511080",
     "exception": false,
     "start_time": "2022-04-25T18:47:19.473177",
     "status": "completed"
    },
    "tags": []
   },
   "source": [
    "The real test of your agent's mettle is their average win rate over many games. Try calling the function below to simulate 50000 games of blackjack (it may take a couple seconds):"
   ]
  },
  {
   "cell_type": "code",
   "execution_count": 23,
   "id": "95f0ff63",
   "metadata": {
    "execution": {
     "iopub.execute_input": "2022-04-25T18:47:19.589249Z",
     "iopub.status.busy": "2022-04-25T18:47:19.589008Z",
     "iopub.status.idle": "2022-04-25T18:47:20.851664Z",
     "shell.execute_reply": "2022-04-25T18:47:20.850679Z"
    },
    "papermill": {
     "duration": 1.304519,
     "end_time": "2022-04-25T18:47:20.853950",
     "exception": false,
     "start_time": "2022-04-25T18:47:19.549431",
     "status": "completed"
    },
    "tags": []
   },
   "outputs": [
    {
     "name": "stdout",
     "output_type": "stream",
     "text": [
      "Player won 19030 out of 50000 games (win rate = 38.1%)\n"
     ]
    }
   ],
   "source": [
    "q7.simulate(n_games=50000)"
   ]
  },
  {
   "cell_type": "markdown",
   "id": "b352a979",
   "metadata": {
    "papermill": {
     "duration": 0.038935,
     "end_time": "2022-04-25T18:47:20.933541",
     "exception": false,
     "start_time": "2022-04-25T18:47:20.894606",
     "status": "completed"
    },
    "tags": []
   },
   "source": [
    "Our dumb agent that completely ignores the game state still manages to win shockingly often!\n",
    "\n",
    "Try adding some more smarts to the `should_hit` function and see how it affects the results."
   ]
  },
  {
   "cell_type": "code",
   "execution_count": 24,
   "id": "f9a3481d",
   "metadata": {
    "execution": {
     "iopub.execute_input": "2022-04-25T18:47:21.014500Z",
     "iopub.status.busy": "2022-04-25T18:47:21.014201Z",
     "iopub.status.idle": "2022-04-25T18:47:22.250702Z",
     "shell.execute_reply": "2022-04-25T18:47:22.249861Z"
    },
    "papermill": {
     "duration": 1.279904,
     "end_time": "2022-04-25T18:47:22.252589",
     "exception": false,
     "start_time": "2022-04-25T18:47:20.972685",
     "status": "completed"
    },
    "tags": []
   },
   "outputs": [
    {
     "name": "stdout",
     "output_type": "stream",
     "text": [
      "Player won 19102 out of 50000 games (win rate = 38.2%)\n"
     ]
    }
   ],
   "source": [
    "def should_hit(dealer_total, player_total, player_low_aces, player_high_aces):\n",
    "    \"\"\"Return True if the player should hit (request another card) given the current game\n",
    "    state, or False if the player should stay.\n",
    "    When calculating a hand's total value, we count aces as \"high\" (with value 11) if doing so\n",
    "    doesn't bring the total above 21, otherwise we count them as low (with value 1). \n",
    "    For example, if the player's hand is {A, A, A, 7}, we will count it as 11 + 1 + 1 + 7,\n",
    "    and therefore set player_total=20, player_low_aces=2, player_high_aces=1.\n",
    "    \"\"\"\n",
    "    return False\n",
    "\n",
    "q7.simulate(n_games=50000)"
   ]
  },
  {
   "cell_type": "markdown",
   "id": "5df1ae2d",
   "metadata": {
    "papermill": {
     "duration": 0.039188,
     "end_time": "2022-04-25T18:47:22.331310",
     "exception": false,
     "start_time": "2022-04-25T18:47:22.292122",
     "status": "completed"
    },
    "tags": []
   },
   "source": [
    "# Keep Going\n",
    "\n",
    "Learn about **[lists and tuples](https://www.kaggle.com/colinmorris/lists)** to handle multiple items of data in a systematic way."
   ]
  },
  {
   "cell_type": "markdown",
   "id": "6aa4ca53",
   "metadata": {
    "papermill": {
     "duration": 0.03889,
     "end_time": "2022-04-25T18:47:22.409505",
     "exception": false,
     "start_time": "2022-04-25T18:47:22.370615",
     "status": "completed"
    },
    "tags": []
   },
   "source": [
    "---\n",
    "\n",
    "\n",
    "\n",
    "\n",
    "*Have questions or comments? Visit the [course discussion forum](https://www.kaggle.com/learn/python/discussion) to chat with other learners.*"
   ]
  }
 ],
 "metadata": {
  "kernelspec": {
   "display_name": "Python 3",
   "language": "python",
   "name": "python3"
  },
  "language_info": {
   "codemirror_mode": {
    "name": "ipython",
    "version": 3
   },
   "file_extension": ".py",
   "mimetype": "text/x-python",
   "name": "python",
   "nbconvert_exporter": "python",
   "pygments_lexer": "ipython3",
   "version": "3.7.12"
  },
  "papermill": {
   "default_parameters": {},
   "duration": 14.555084,
   "end_time": "2022-04-25T18:47:23.068095",
   "environment_variables": {},
   "exception": null,
   "input_path": "__notebook__.ipynb",
   "output_path": "__notebook__.ipynb",
   "parameters": {},
   "start_time": "2022-04-25T18:47:08.513011",
   "version": "2.3.4"
  }
 },
 "nbformat": 4,
 "nbformat_minor": 5
}
