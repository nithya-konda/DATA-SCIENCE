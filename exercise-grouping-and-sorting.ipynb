{
 "cells": [
  {
   "cell_type": "markdown",
   "id": "9179a866",
   "metadata": {
    "papermill": {
     "duration": 0.025713,
     "end_time": "2022-04-25T18:35:58.477844",
     "exception": false,
     "start_time": "2022-04-25T18:35:58.452131",
     "status": "completed"
    },
    "tags": []
   },
   "source": [
    "**This notebook is an exercise in the [Pandas](https://www.kaggle.com/learn/pandas) course.  You can reference the tutorial at [this link](https://www.kaggle.com/residentmario/grouping-and-sorting).**\n",
    "\n",
    "---\n"
   ]
  },
  {
   "cell_type": "markdown",
   "id": "8fbe4d22",
   "metadata": {
    "papermill": {
     "duration": 0.030886,
     "end_time": "2022-04-25T18:35:58.534942",
     "exception": false,
     "start_time": "2022-04-25T18:35:58.504056",
     "status": "completed"
    },
    "tags": []
   },
   "source": [
    "# Introduction\n",
    "\n",
    "In these exercises we'll apply groupwise analysis to our dataset.\n",
    "\n",
    "Run the code cell below to load the data before running the exercises."
   ]
  },
  {
   "cell_type": "code",
   "execution_count": 1,
   "id": "e7598478",
   "metadata": {
    "execution": {
     "iopub.execute_input": "2022-04-25T18:35:58.589630Z",
     "iopub.status.busy": "2022-04-25T18:35:58.589181Z",
     "iopub.status.idle": "2022-04-25T18:36:01.790622Z",
     "shell.execute_reply": "2022-04-25T18:36:01.789290Z"
    },
    "papermill": {
     "duration": 3.233386,
     "end_time": "2022-04-25T18:36:01.795378",
     "exception": false,
     "start_time": "2022-04-25T18:35:58.561992",
     "status": "completed"
    },
    "tags": []
   },
   "outputs": [
    {
     "name": "stdout",
     "output_type": "stream",
     "text": [
      "Setup complete.\n"
     ]
    }
   ],
   "source": [
    "import pandas as pd\n",
    "\n",
    "reviews = pd.read_csv(\"../input/wine-reviews/winemag-data-130k-v2.csv\", index_col=0)\n",
    "#pd.set_option(\"display.max_rows\", 5)\n",
    "\n",
    "from learntools.core import binder; binder.bind(globals())\n",
    "from learntools.pandas.grouping_and_sorting import *\n",
    "print(\"Setup complete.\")"
   ]
  },
  {
   "cell_type": "markdown",
   "id": "551c9dba",
   "metadata": {
    "papermill": {
     "duration": 0.024923,
     "end_time": "2022-04-25T18:36:01.845716",
     "exception": false,
     "start_time": "2022-04-25T18:36:01.820793",
     "status": "completed"
    },
    "tags": []
   },
   "source": [
    "# Exercises"
   ]
  },
  {
   "cell_type": "markdown",
   "id": "d5804498",
   "metadata": {
    "papermill": {
     "duration": 0.026182,
     "end_time": "2022-04-25T18:36:01.896844",
     "exception": false,
     "start_time": "2022-04-25T18:36:01.870662",
     "status": "completed"
    },
    "tags": []
   },
   "source": [
    "## 1.\n",
    "Who are the most common wine reviewers in the dataset? Create a `Series` whose index is the `taster_twitter_handle` category from the dataset, and whose values count how many reviews each person wrote."
   ]
  },
  {
   "cell_type": "code",
   "execution_count": 2,
   "id": "434056c9",
   "metadata": {
    "execution": {
     "iopub.execute_input": "2022-04-25T18:36:01.946846Z",
     "iopub.status.busy": "2022-04-25T18:36:01.946522Z",
     "iopub.status.idle": "2022-04-25T18:36:03.128363Z",
     "shell.execute_reply": "2022-04-25T18:36:03.127540Z"
    },
    "papermill": {
     "duration": 1.209452,
     "end_time": "2022-04-25T18:36:03.130472",
     "exception": false,
     "start_time": "2022-04-25T18:36:01.921020",
     "status": "completed"
    },
    "tags": []
   },
   "outputs": [
    {
     "data": {
      "application/javascript": [
       "parent.postMessage({\"jupyterEvent\": \"custom.exercise_interaction\", \"data\": {\"outcomeType\": 1, \"valueTowardsCompletion\": 0.16666666666666666, \"interactionType\": 1, \"questionType\": 1, \"questionId\": \"1_ReviewsWritten\", \"learnToolsVersion\": \"0.3.4\", \"failureMessage\": \"\", \"exceptionClass\": \"\", \"trace\": \"\"}}, \"*\")"
      ],
      "text/plain": [
       "<IPython.core.display.Javascript object>"
      ]
     },
     "metadata": {},
     "output_type": "display_data"
    },
    {
     "data": {
      "text/markdown": [
       "<span style=\"color:#33cc33\">Correct:</span> \n",
       "\n",
       "\n",
       "```python\n",
       "reviews_written = reviews.groupby('taster_twitter_handle').size()\n",
       "```\n",
       "or\n",
       "```python\n",
       "reviews_written = reviews.groupby('taster_twitter_handle').taster_twitter_handle.count()\n",
       "```\n"
      ],
      "text/plain": [
       "Correct: \n",
       "\n",
       "\n",
       "```python\n",
       "reviews_written = reviews.groupby('taster_twitter_handle').size()\n",
       "```\n",
       "or\n",
       "```python\n",
       "reviews_written = reviews.groupby('taster_twitter_handle').taster_twitter_handle.count()\n",
       "```"
      ]
     },
     "metadata": {},
     "output_type": "display_data"
    }
   ],
   "source": [
    "import pandas as pd\n",
    "\n",
    "reviews = pd.read_csv(\"../input/wine-reviews/winemag-data-130k-v2.csv\", index_col=0)\n",
    "#pd.set_option(\"display.max_rows\", 5)\n",
    "\n",
    "from learntools.core import binder; binder.bind(globals())\n",
    "from learntools.pandas.grouping_and_sorting import *\n",
    "reviews_written = reviews.groupby('taster_twitter_handle').size()\n",
    "\n",
    "# Check your answer\n",
    "q1.check()"
   ]
  },
  {
   "cell_type": "code",
   "execution_count": 3,
   "id": "525bba09",
   "metadata": {
    "execution": {
     "iopub.execute_input": "2022-04-25T18:36:03.180145Z",
     "iopub.status.busy": "2022-04-25T18:36:03.179859Z",
     "iopub.status.idle": "2022-04-25T18:36:04.280552Z",
     "shell.execute_reply": "2022-04-25T18:36:04.279395Z"
    },
    "papermill": {
     "duration": 1.127798,
     "end_time": "2022-04-25T18:36:04.282660",
     "exception": false,
     "start_time": "2022-04-25T18:36:03.154862",
     "status": "completed"
    },
    "tags": []
   },
   "outputs": [
    {
     "data": {
      "application/javascript": [
       "parent.postMessage({\"jupyterEvent\": \"custom.exercise_interaction\", \"data\": {\"interactionType\": 3, \"questionType\": 1, \"questionId\": \"1_ReviewsWritten\", \"learnToolsVersion\": \"0.3.4\", \"valueTowardsCompletion\": 0.0, \"failureMessage\": \"\", \"exceptionClass\": \"\", \"trace\": \"\", \"outcomeType\": 4}}, \"*\")"
      ],
      "text/plain": [
       "<IPython.core.display.Javascript object>"
      ]
     },
     "metadata": {},
     "output_type": "display_data"
    },
    {
     "data": {
      "text/markdown": [
       "<span style=\"color:#33cc99\">Solution:</span> \n",
       "```python\n",
       "reviews_written = reviews.groupby('taster_twitter_handle').size()\n",
       "```\n",
       "or\n",
       "```python\n",
       "reviews_written = reviews.groupby('taster_twitter_handle').taster_twitter_handle.count()\n",
       "```\n"
      ],
      "text/plain": [
       "Solution: \n",
       "```python\n",
       "reviews_written = reviews.groupby('taster_twitter_handle').size()\n",
       "```\n",
       "or\n",
       "```python\n",
       "reviews_written = reviews.groupby('taster_twitter_handle').taster_twitter_handle.count()\n",
       "```"
      ]
     },
     "metadata": {},
     "output_type": "display_data"
    }
   ],
   "source": [
    "import pandas as pd\n",
    "\n",
    "reviews = pd.read_csv(\"../input/wine-reviews/winemag-data-130k-v2.csv\", index_col=0)\n",
    "#pd.set_option(\"display.max_rows\", 5)\n",
    "\n",
    "from learntools.core import binder; binder.bind(globals())\n",
    "from learntools.pandas.grouping_and_sorting import *\n",
    "#q1.hint()\n",
    "q1.solution()"
   ]
  },
  {
   "cell_type": "markdown",
   "id": "50bab915",
   "metadata": {
    "papermill": {
     "duration": 0.025348,
     "end_time": "2022-04-25T18:36:04.332526",
     "exception": false,
     "start_time": "2022-04-25T18:36:04.307178",
     "status": "completed"
    },
    "tags": []
   },
   "source": [
    "## 2.\n",
    "What is the best wine I can buy for a given amount of money? Create a `Series` whose index is wine prices and whose values is the maximum number of points a wine costing that much was given in a review. Sort the values by price, ascending (so that `4.0` dollars is at the top and `3300.0` dollars is at the bottom)."
   ]
  },
  {
   "cell_type": "code",
   "execution_count": 4,
   "id": "0d9ea20e",
   "metadata": {
    "execution": {
     "iopub.execute_input": "2022-04-25T18:36:04.387519Z",
     "iopub.status.busy": "2022-04-25T18:36:04.387251Z",
     "iopub.status.idle": "2022-04-25T18:36:04.401007Z",
     "shell.execute_reply": "2022-04-25T18:36:04.400007Z"
    },
    "papermill": {
     "duration": 0.043612,
     "end_time": "2022-04-25T18:36:04.403297",
     "exception": false,
     "start_time": "2022-04-25T18:36:04.359685",
     "status": "completed"
    },
    "tags": []
   },
   "outputs": [
    {
     "data": {
      "application/javascript": [
       "parent.postMessage({\"jupyterEvent\": \"custom.exercise_interaction\", \"data\": {\"outcomeType\": 1, \"valueTowardsCompletion\": 0.16666666666666666, \"interactionType\": 1, \"questionType\": 1, \"questionId\": \"2_BestRatingPerPrice\", \"learnToolsVersion\": \"0.3.4\", \"failureMessage\": \"\", \"exceptionClass\": \"\", \"trace\": \"\"}}, \"*\")"
      ],
      "text/plain": [
       "<IPython.core.display.Javascript object>"
      ]
     },
     "metadata": {},
     "output_type": "display_data"
    },
    {
     "data": {
      "text/markdown": [
       "<span style=\"color:#33cc33\">Correct</span>"
      ],
      "text/plain": [
       "Correct"
      ]
     },
     "metadata": {},
     "output_type": "display_data"
    }
   ],
   "source": [
    "best_rating_per_price = reviews.groupby('price')['points'].max().sort_index()\n",
    "\n",
    "# Check your answer\n",
    "q2.check()"
   ]
  },
  {
   "cell_type": "code",
   "execution_count": 5,
   "id": "063c333d",
   "metadata": {
    "execution": {
     "iopub.execute_input": "2022-04-25T18:36:04.458553Z",
     "iopub.status.busy": "2022-04-25T18:36:04.458279Z",
     "iopub.status.idle": "2022-04-25T18:36:04.466200Z",
     "shell.execute_reply": "2022-04-25T18:36:04.465219Z"
    },
    "papermill": {
     "duration": 0.038005,
     "end_time": "2022-04-25T18:36:04.468358",
     "exception": false,
     "start_time": "2022-04-25T18:36:04.430353",
     "status": "completed"
    },
    "tags": []
   },
   "outputs": [
    {
     "data": {
      "application/javascript": [
       "parent.postMessage({\"jupyterEvent\": \"custom.exercise_interaction\", \"data\": {\"interactionType\": 3, \"questionType\": 1, \"questionId\": \"2_BestRatingPerPrice\", \"learnToolsVersion\": \"0.3.4\", \"valueTowardsCompletion\": 0.0, \"failureMessage\": \"\", \"exceptionClass\": \"\", \"trace\": \"\", \"outcomeType\": 4}}, \"*\")"
      ],
      "text/plain": [
       "<IPython.core.display.Javascript object>"
      ]
     },
     "metadata": {},
     "output_type": "display_data"
    },
    {
     "data": {
      "text/markdown": [
       "<span style=\"color:#33cc99\">Solution:</span> \n",
       "```python\n",
       "best_rating_per_price = reviews.groupby('price')['points'].max().sort_index()\n",
       "```"
      ],
      "text/plain": [
       "Solution: \n",
       "```python\n",
       "best_rating_per_price = reviews.groupby('price')['points'].max().sort_index()\n",
       "```"
      ]
     },
     "metadata": {},
     "output_type": "display_data"
    }
   ],
   "source": [
    "#q2.hint()\n",
    "q2.solution()"
   ]
  },
  {
   "cell_type": "markdown",
   "id": "bd2b2577",
   "metadata": {
    "papermill": {
     "duration": 0.027313,
     "end_time": "2022-04-25T18:36:04.523686",
     "exception": false,
     "start_time": "2022-04-25T18:36:04.496373",
     "status": "completed"
    },
    "tags": []
   },
   "source": [
    "## 3.\n",
    "What are the minimum and maximum prices for each `variety` of wine? Create a `DataFrame` whose index is the `variety` category from the dataset and whose values are the `min` and `max` values thereof."
   ]
  },
  {
   "cell_type": "code",
   "execution_count": 6,
   "id": "910f998d",
   "metadata": {
    "execution": {
     "iopub.execute_input": "2022-04-25T18:36:04.580649Z",
     "iopub.status.busy": "2022-04-25T18:36:04.580354Z",
     "iopub.status.idle": "2022-04-25T18:36:04.611424Z",
     "shell.execute_reply": "2022-04-25T18:36:04.610312Z"
    },
    "papermill": {
     "duration": 0.062557,
     "end_time": "2022-04-25T18:36:04.613769",
     "exception": false,
     "start_time": "2022-04-25T18:36:04.551212",
     "status": "completed"
    },
    "tags": []
   },
   "outputs": [
    {
     "data": {
      "application/javascript": [
       "parent.postMessage({\"jupyterEvent\": \"custom.exercise_interaction\", \"data\": {\"outcomeType\": 1, \"valueTowardsCompletion\": 0.16666666666666666, \"interactionType\": 1, \"questionType\": 1, \"questionId\": \"3_PriceExtremes\", \"learnToolsVersion\": \"0.3.4\", \"failureMessage\": \"\", \"exceptionClass\": \"\", \"trace\": \"\"}}, \"*\")"
      ],
      "text/plain": [
       "<IPython.core.display.Javascript object>"
      ]
     },
     "metadata": {},
     "output_type": "display_data"
    },
    {
     "data": {
      "text/markdown": [
       "<span style=\"color:#33cc33\">Correct</span>"
      ],
      "text/plain": [
       "Correct"
      ]
     },
     "metadata": {},
     "output_type": "display_data"
    }
   ],
   "source": [
    "price_extremes = reviews.groupby('variety').price.agg([min, max])\n",
    "\n",
    "# Check your answer\n",
    "q3.check()"
   ]
  },
  {
   "cell_type": "code",
   "execution_count": 7,
   "id": "9842f6d8",
   "metadata": {
    "execution": {
     "iopub.execute_input": "2022-04-25T18:36:04.674380Z",
     "iopub.status.busy": "2022-04-25T18:36:04.674086Z",
     "iopub.status.idle": "2022-04-25T18:36:04.681726Z",
     "shell.execute_reply": "2022-04-25T18:36:04.680869Z"
    },
    "papermill": {
     "duration": 0.039335,
     "end_time": "2022-04-25T18:36:04.683837",
     "exception": false,
     "start_time": "2022-04-25T18:36:04.644502",
     "status": "completed"
    },
    "tags": []
   },
   "outputs": [
    {
     "data": {
      "application/javascript": [
       "parent.postMessage({\"jupyterEvent\": \"custom.exercise_interaction\", \"data\": {\"interactionType\": 3, \"questionType\": 1, \"questionId\": \"3_PriceExtremes\", \"learnToolsVersion\": \"0.3.4\", \"valueTowardsCompletion\": 0.0, \"failureMessage\": \"\", \"exceptionClass\": \"\", \"trace\": \"\", \"outcomeType\": 4}}, \"*\")"
      ],
      "text/plain": [
       "<IPython.core.display.Javascript object>"
      ]
     },
     "metadata": {},
     "output_type": "display_data"
    },
    {
     "data": {
      "text/markdown": [
       "<span style=\"color:#33cc99\">Solution:</span> \n",
       "```python\n",
       "price_extremes = reviews.groupby('variety').price.agg([min, max])\n",
       "```"
      ],
      "text/plain": [
       "Solution: \n",
       "```python\n",
       "price_extremes = reviews.groupby('variety').price.agg([min, max])\n",
       "```"
      ]
     },
     "metadata": {},
     "output_type": "display_data"
    }
   ],
   "source": [
    "#q3.hint()\n",
    "q3.solution()"
   ]
  },
  {
   "cell_type": "markdown",
   "id": "2f604628",
   "metadata": {
    "papermill": {
     "duration": 0.031033,
     "end_time": "2022-04-25T18:36:04.744851",
     "exception": false,
     "start_time": "2022-04-25T18:36:04.713818",
     "status": "completed"
    },
    "tags": []
   },
   "source": [
    "## 4.\n",
    "What are the most expensive wine varieties? Create a variable `sorted_varieties` containing a copy of the dataframe from the previous question where varieties are sorted in descending order based on minimum price, then on maximum price (to break ties)."
   ]
  },
  {
   "cell_type": "code",
   "execution_count": 8,
   "id": "ecb88c19",
   "metadata": {
    "execution": {
     "iopub.execute_input": "2022-04-25T18:36:04.808616Z",
     "iopub.status.busy": "2022-04-25T18:36:04.808329Z",
     "iopub.status.idle": "2022-04-25T18:36:04.819773Z",
     "shell.execute_reply": "2022-04-25T18:36:04.818763Z"
    },
    "papermill": {
     "duration": 0.045694,
     "end_time": "2022-04-25T18:36:04.821812",
     "exception": false,
     "start_time": "2022-04-25T18:36:04.776118",
     "status": "completed"
    },
    "tags": []
   },
   "outputs": [
    {
     "data": {
      "application/javascript": [
       "parent.postMessage({\"jupyterEvent\": \"custom.exercise_interaction\", \"data\": {\"outcomeType\": 1, \"valueTowardsCompletion\": 0.16666666666666666, \"interactionType\": 1, \"questionType\": 1, \"questionId\": \"4_SortedVarieties\", \"learnToolsVersion\": \"0.3.4\", \"failureMessage\": \"\", \"exceptionClass\": \"\", \"trace\": \"\"}}, \"*\")"
      ],
      "text/plain": [
       "<IPython.core.display.Javascript object>"
      ]
     },
     "metadata": {},
     "output_type": "display_data"
    },
    {
     "data": {
      "text/markdown": [
       "<span style=\"color:#33cc33\">Correct</span>"
      ],
      "text/plain": [
       "Correct"
      ]
     },
     "metadata": {},
     "output_type": "display_data"
    }
   ],
   "source": [
    "sorted_varieties = price_extremes.sort_values(by=['min', 'max'], ascending=False)\n",
    "\n",
    "# Check your answer\n",
    "q4.check()"
   ]
  },
  {
   "cell_type": "code",
   "execution_count": 9,
   "id": "9f411d9e",
   "metadata": {
    "execution": {
     "iopub.execute_input": "2022-04-25T18:36:04.885978Z",
     "iopub.status.busy": "2022-04-25T18:36:04.885713Z",
     "iopub.status.idle": "2022-04-25T18:36:04.893102Z",
     "shell.execute_reply": "2022-04-25T18:36:04.892007Z"
    },
    "papermill": {
     "duration": 0.041662,
     "end_time": "2022-04-25T18:36:04.895226",
     "exception": false,
     "start_time": "2022-04-25T18:36:04.853564",
     "status": "completed"
    },
    "tags": []
   },
   "outputs": [
    {
     "data": {
      "application/javascript": [
       "parent.postMessage({\"jupyterEvent\": \"custom.exercise_interaction\", \"data\": {\"interactionType\": 3, \"questionType\": 1, \"questionId\": \"4_SortedVarieties\", \"learnToolsVersion\": \"0.3.4\", \"valueTowardsCompletion\": 0.0, \"failureMessage\": \"\", \"exceptionClass\": \"\", \"trace\": \"\", \"outcomeType\": 4}}, \"*\")"
      ],
      "text/plain": [
       "<IPython.core.display.Javascript object>"
      ]
     },
     "metadata": {},
     "output_type": "display_data"
    },
    {
     "data": {
      "text/markdown": [
       "<span style=\"color:#33cc99\">Solution:</span> \n",
       "```python\n",
       "sorted_varieties = price_extremes.sort_values(by=['min', 'max'], ascending=False)\n",
       "```"
      ],
      "text/plain": [
       "Solution: \n",
       "```python\n",
       "sorted_varieties = price_extremes.sort_values(by=['min', 'max'], ascending=False)\n",
       "```"
      ]
     },
     "metadata": {},
     "output_type": "display_data"
    }
   ],
   "source": [
    "#q4.hint()\n",
    "q4.solution()"
   ]
  },
  {
   "cell_type": "markdown",
   "id": "ecb22322",
   "metadata": {
    "papermill": {
     "duration": 0.031375,
     "end_time": "2022-04-25T18:36:04.961574",
     "exception": false,
     "start_time": "2022-04-25T18:36:04.930199",
     "status": "completed"
    },
    "tags": []
   },
   "source": [
    "## 5.\n",
    "Create a `Series` whose index is reviewers and whose values is the average review score given out by that reviewer. Hint: you will need the `taster_name` and `points` columns."
   ]
  },
  {
   "cell_type": "code",
   "execution_count": 10,
   "id": "c43740f3",
   "metadata": {
    "execution": {
     "iopub.execute_input": "2022-04-25T18:36:05.026183Z",
     "iopub.status.busy": "2022-04-25T18:36:05.025923Z",
     "iopub.status.idle": "2022-04-25T18:36:05.051983Z",
     "shell.execute_reply": "2022-04-25T18:36:05.051289Z"
    },
    "papermill": {
     "duration": 0.060873,
     "end_time": "2022-04-25T18:36:05.053955",
     "exception": false,
     "start_time": "2022-04-25T18:36:04.993082",
     "status": "completed"
    },
    "tags": []
   },
   "outputs": [
    {
     "data": {
      "application/javascript": [
       "parent.postMessage({\"jupyterEvent\": \"custom.exercise_interaction\", \"data\": {\"outcomeType\": 1, \"valueTowardsCompletion\": 0.16666666666666666, \"interactionType\": 1, \"questionType\": 1, \"questionId\": \"5_ReviewerMeanRatings\", \"learnToolsVersion\": \"0.3.4\", \"failureMessage\": \"\", \"exceptionClass\": \"\", \"trace\": \"\"}}, \"*\")"
      ],
      "text/plain": [
       "<IPython.core.display.Javascript object>"
      ]
     },
     "metadata": {},
     "output_type": "display_data"
    },
    {
     "data": {
      "text/markdown": [
       "<span style=\"color:#33cc33\">Correct</span>"
      ],
      "text/plain": [
       "Correct"
      ]
     },
     "metadata": {},
     "output_type": "display_data"
    }
   ],
   "source": [
    "reviewer_mean_ratings = reviews.groupby('taster_name').points.mean()\n",
    "\n",
    "# Check your answer\n",
    "q5.check()"
   ]
  },
  {
   "cell_type": "code",
   "execution_count": 11,
   "id": "8b5f9843",
   "metadata": {
    "execution": {
     "iopub.execute_input": "2022-04-25T18:36:05.125737Z",
     "iopub.status.busy": "2022-04-25T18:36:05.125491Z",
     "iopub.status.idle": "2022-04-25T18:36:05.131532Z",
     "shell.execute_reply": "2022-04-25T18:36:05.130958Z"
    },
    "papermill": {
     "duration": 0.043766,
     "end_time": "2022-04-25T18:36:05.133455",
     "exception": false,
     "start_time": "2022-04-25T18:36:05.089689",
     "status": "completed"
    },
    "tags": []
   },
   "outputs": [
    {
     "data": {
      "application/javascript": [
       "parent.postMessage({\"jupyterEvent\": \"custom.exercise_interaction\", \"data\": {\"interactionType\": 3, \"questionType\": 1, \"questionId\": \"5_ReviewerMeanRatings\", \"learnToolsVersion\": \"0.3.4\", \"valueTowardsCompletion\": 0.0, \"failureMessage\": \"\", \"exceptionClass\": \"\", \"trace\": \"\", \"outcomeType\": 4}}, \"*\")"
      ],
      "text/plain": [
       "<IPython.core.display.Javascript object>"
      ]
     },
     "metadata": {},
     "output_type": "display_data"
    },
    {
     "data": {
      "text/markdown": [
       "<span style=\"color:#33cc99\">Solution:</span> \n",
       "```python\n",
       "reviewer_mean_ratings = reviews.groupby('taster_name').points.mean()\n",
       "```"
      ],
      "text/plain": [
       "Solution: \n",
       "```python\n",
       "reviewer_mean_ratings = reviews.groupby('taster_name').points.mean()\n",
       "```"
      ]
     },
     "metadata": {},
     "output_type": "display_data"
    }
   ],
   "source": [
    "#q5.hint()\n",
    "q5.solution()"
   ]
  },
  {
   "cell_type": "markdown",
   "id": "fe321284",
   "metadata": {
    "papermill": {
     "duration": 0.034617,
     "end_time": "2022-04-25T18:36:05.203033",
     "exception": false,
     "start_time": "2022-04-25T18:36:05.168416",
     "status": "completed"
    },
    "tags": []
   },
   "source": [
    "Are there significant differences in the average scores assigned by the various reviewers? Run the cell below to use the `describe()` method to see a summary of the range of values."
   ]
  },
  {
   "cell_type": "code",
   "execution_count": 12,
   "id": "f550247c",
   "metadata": {
    "execution": {
     "iopub.execute_input": "2022-04-25T18:36:05.275669Z",
     "iopub.status.busy": "2022-04-25T18:36:05.275152Z",
     "iopub.status.idle": "2022-04-25T18:36:05.286215Z",
     "shell.execute_reply": "2022-04-25T18:36:05.285551Z"
    },
    "papermill": {
     "duration": 0.049258,
     "end_time": "2022-04-25T18:36:05.288101",
     "exception": false,
     "start_time": "2022-04-25T18:36:05.238843",
     "status": "completed"
    },
    "tags": []
   },
   "outputs": [
    {
     "data": {
      "text/plain": [
       "count    19.000000\n",
       "mean     88.233026\n",
       "std       1.243610\n",
       "min      85.855422\n",
       "25%      87.323501\n",
       "50%      88.536235\n",
       "75%      88.975256\n",
       "max      90.562551\n",
       "Name: points, dtype: float64"
      ]
     },
     "execution_count": 12,
     "metadata": {},
     "output_type": "execute_result"
    }
   ],
   "source": [
    "reviewer_mean_ratings.describe()"
   ]
  },
  {
   "cell_type": "markdown",
   "id": "23c3d8fa",
   "metadata": {
    "papermill": {
     "duration": 0.038456,
     "end_time": "2022-04-25T18:36:05.361511",
     "exception": false,
     "start_time": "2022-04-25T18:36:05.323055",
     "status": "completed"
    },
    "tags": []
   },
   "source": [
    "## 6.\n",
    "What combination of countries and varieties are most common? Create a `Series` whose index is a `MultiIndex`of `{country, variety}` pairs. For example, a pinot noir produced in the US should map to `{\"US\", \"Pinot Noir\"}`. Sort the values in the `Series` in descending order based on wine count."
   ]
  },
  {
   "cell_type": "code",
   "execution_count": 13,
   "id": "6e210049",
   "metadata": {
    "execution": {
     "iopub.execute_input": "2022-04-25T18:36:05.435161Z",
     "iopub.status.busy": "2022-04-25T18:36:05.434672Z",
     "iopub.status.idle": "2022-04-25T18:36:05.481193Z",
     "shell.execute_reply": "2022-04-25T18:36:05.480228Z"
    },
    "papermill": {
     "duration": 0.085002,
     "end_time": "2022-04-25T18:36:05.483336",
     "exception": false,
     "start_time": "2022-04-25T18:36:05.398334",
     "status": "completed"
    },
    "tags": []
   },
   "outputs": [
    {
     "data": {
      "application/javascript": [
       "parent.postMessage({\"jupyterEvent\": \"custom.exercise_interaction\", \"data\": {\"outcomeType\": 1, \"valueTowardsCompletion\": 0.16666666666666666, \"interactionType\": 1, \"questionType\": 1, \"questionId\": \"6_GroupbyCountryVariety\", \"learnToolsVersion\": \"0.3.4\", \"failureMessage\": \"\", \"exceptionClass\": \"\", \"trace\": \"\"}}, \"*\")"
      ],
      "text/plain": [
       "<IPython.core.display.Javascript object>"
      ]
     },
     "metadata": {},
     "output_type": "display_data"
    },
    {
     "data": {
      "text/markdown": [
       "<span style=\"color:#33cc33\">Correct</span>"
      ],
      "text/plain": [
       "Correct"
      ]
     },
     "metadata": {},
     "output_type": "display_data"
    }
   ],
   "source": [
    "country_variety_counts = reviews.groupby(['country', 'variety']).size().sort_values(ascending=False)\n",
    "\n",
    "# Check your answer\n",
    "q6.check()"
   ]
  },
  {
   "cell_type": "code",
   "execution_count": 14,
   "id": "938374b2",
   "metadata": {
    "execution": {
     "iopub.execute_input": "2022-04-25T18:36:05.558841Z",
     "iopub.status.busy": "2022-04-25T18:36:05.558334Z",
     "iopub.status.idle": "2022-04-25T18:36:05.564263Z",
     "shell.execute_reply": "2022-04-25T18:36:05.563645Z"
    },
    "papermill": {
     "duration": 0.045404,
     "end_time": "2022-04-25T18:36:05.566099",
     "exception": false,
     "start_time": "2022-04-25T18:36:05.520695",
     "status": "completed"
    },
    "tags": []
   },
   "outputs": [
    {
     "data": {
      "application/javascript": [
       "parent.postMessage({\"jupyterEvent\": \"custom.exercise_interaction\", \"data\": {\"interactionType\": 3, \"questionType\": 1, \"questionId\": \"6_GroupbyCountryVariety\", \"learnToolsVersion\": \"0.3.4\", \"valueTowardsCompletion\": 0.0, \"failureMessage\": \"\", \"exceptionClass\": \"\", \"trace\": \"\", \"outcomeType\": 4}}, \"*\")"
      ],
      "text/plain": [
       "<IPython.core.display.Javascript object>"
      ]
     },
     "metadata": {},
     "output_type": "display_data"
    },
    {
     "data": {
      "text/markdown": [
       "<span style=\"color:#33cc99\">Solution:</span> \n",
       "```python\n",
       "country_variety_counts = reviews.groupby(['country', 'variety']).size().sort_values(ascending=False)\n",
       "```"
      ],
      "text/plain": [
       "Solution: \n",
       "```python\n",
       "country_variety_counts = reviews.groupby(['country', 'variety']).size().sort_values(ascending=False)\n",
       "```"
      ]
     },
     "metadata": {},
     "output_type": "display_data"
    }
   ],
   "source": [
    "#q6.hint()\n",
    "q6.solution()"
   ]
  },
  {
   "cell_type": "markdown",
   "id": "c3d9ef0e",
   "metadata": {
    "papermill": {
     "duration": 0.037865,
     "end_time": "2022-04-25T18:36:05.641733",
     "exception": false,
     "start_time": "2022-04-25T18:36:05.603868",
     "status": "completed"
    },
    "tags": []
   },
   "source": [
    "# Keep going\n",
    "\n",
    "Move on to the [**data types and missing data**](https://www.kaggle.com/residentmario/data-types-and-missing-values)."
   ]
  },
  {
   "cell_type": "markdown",
   "id": "ba97190d",
   "metadata": {
    "papermill": {
     "duration": 0.036714,
     "end_time": "2022-04-25T18:36:05.718723",
     "exception": false,
     "start_time": "2022-04-25T18:36:05.682009",
     "status": "completed"
    },
    "tags": []
   },
   "source": [
    "---\n",
    "\n",
    "\n",
    "\n",
    "\n",
    "*Have questions or comments? Visit the [course discussion forum](https://www.kaggle.com/learn/pandas/discussion) to chat with other learners.*"
   ]
  }
 ],
 "metadata": {
  "kernelspec": {
   "display_name": "Python 3",
   "language": "python",
   "name": "python3"
  },
  "language_info": {
   "codemirror_mode": {
    "name": "ipython",
    "version": 3
   },
   "file_extension": ".py",
   "mimetype": "text/x-python",
   "name": "python",
   "nbconvert_exporter": "python",
   "pygments_lexer": "ipython3",
   "version": "3.7.12"
  },
  "papermill": {
   "default_parameters": {},
   "duration": 18.498689,
   "end_time": "2022-04-25T18:36:06.477023",
   "environment_variables": {},
   "exception": null,
   "input_path": "__notebook__.ipynb",
   "output_path": "__notebook__.ipynb",
   "parameters": {},
   "start_time": "2022-04-25T18:35:47.978334",
   "version": "2.3.4"
  }
 },
 "nbformat": 4,
 "nbformat_minor": 5
}
