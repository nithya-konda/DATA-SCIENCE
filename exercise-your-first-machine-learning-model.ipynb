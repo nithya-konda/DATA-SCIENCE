{
 "cells": [
  {
   "cell_type": "markdown",
   "id": "51bd02b3",
   "metadata": {
    "papermill": {
     "duration": 0.021109,
     "end_time": "2022-04-25T18:29:31.766195",
     "exception": false,
     "start_time": "2022-04-25T18:29:31.745086",
     "status": "completed"
    },
    "tags": []
   },
   "source": [
    "**This notebook is an exercise in the [Introduction to Machine Learning](https://www.kaggle.com/learn/intro-to-machine-learning) course.  You can reference the tutorial at [this link](https://www.kaggle.com/dansbecker/your-first-machine-learning-model).**\n",
    "\n",
    "---\n"
   ]
  },
  {
   "cell_type": "markdown",
   "id": "dedafbc3",
   "metadata": {
    "papermill": {
     "duration": 0.019456,
     "end_time": "2022-04-25T18:29:31.806967",
     "exception": false,
     "start_time": "2022-04-25T18:29:31.787511",
     "status": "completed"
    },
    "tags": []
   },
   "source": [
    "## Recap\n",
    "So far, you have loaded your data and reviewed it with the following code. Run this cell to set up your coding environment where the previous step left off."
   ]
  },
  {
   "cell_type": "code",
   "execution_count": 1,
   "id": "4c8115da",
   "metadata": {
    "collapsed": true,
    "execution": {
     "iopub.execute_input": "2022-04-25T18:29:31.851287Z",
     "iopub.status.busy": "2022-04-25T18:29:31.850499Z",
     "iopub.status.idle": "2022-04-25T18:29:33.318722Z",
     "shell.execute_reply": "2022-04-25T18:29:33.317242Z"
    },
    "jupyter": {
     "outputs_hidden": true
    },
    "papermill": {
     "duration": 1.493224,
     "end_time": "2022-04-25T18:29:33.321229",
     "exception": false,
     "start_time": "2022-04-25T18:29:31.828005",
     "status": "completed"
    },
    "tags": []
   },
   "outputs": [
    {
     "name": "stdout",
     "output_type": "stream",
     "text": [
      "Setup Complete\n"
     ]
    }
   ],
   "source": [
    "# Code you have previously used to load data\n",
    "import pandas as pd\n",
    "\n",
    "# Path of the file to read\n",
    "iowa_file_path = '../input/home-data-for-ml-course/train.csv'\n",
    "\n",
    "home_data = pd.read_csv(iowa_file_path)\n",
    "\n",
    "# Set up code checking\n",
    "from learntools.core import binder\n",
    "binder.bind(globals())\n",
    "from learntools.machine_learning.ex3 import *\n",
    "\n",
    "print(\"Setup Complete\")"
   ]
  },
  {
   "cell_type": "markdown",
   "id": "aa4e0fa3",
   "metadata": {
    "papermill": {
     "duration": 0.018627,
     "end_time": "2022-04-25T18:29:33.361220",
     "exception": false,
     "start_time": "2022-04-25T18:29:33.342593",
     "status": "completed"
    },
    "tags": []
   },
   "source": [
    "# Exercises\n",
    "\n",
    "## Step 1: Specify Prediction Target\n",
    "Select the target variable, which corresponds to the sales price. Save this to a new variable called `y`. You'll need to print a list of the columns to find the name of the column you need.\n"
   ]
  },
  {
   "cell_type": "code",
   "execution_count": 2,
   "id": "d76df099",
   "metadata": {
    "collapsed": true,
    "execution": {
     "iopub.execute_input": "2022-04-25T18:29:33.401219Z",
     "iopub.status.busy": "2022-04-25T18:29:33.400918Z",
     "iopub.status.idle": "2022-04-25T18:29:33.405565Z",
     "shell.execute_reply": "2022-04-25T18:29:33.404379Z"
    },
    "jupyter": {
     "outputs_hidden": true
    },
    "papermill": {
     "duration": 0.027444,
     "end_time": "2022-04-25T18:29:33.407693",
     "exception": false,
     "start_time": "2022-04-25T18:29:33.380249",
     "status": "completed"
    },
    "tags": []
   },
   "outputs": [],
   "source": [
    "# print the list of columns in the dataset to find the name of the prediction target\n"
   ]
  },
  {
   "cell_type": "code",
   "execution_count": 3,
   "id": "c5dcd178",
   "metadata": {
    "execution": {
     "iopub.execute_input": "2022-04-25T18:29:33.448567Z",
     "iopub.status.busy": "2022-04-25T18:29:33.448265Z",
     "iopub.status.idle": "2022-04-25T18:29:33.463845Z",
     "shell.execute_reply": "2022-04-25T18:29:33.462974Z"
    },
    "papermill": {
     "duration": 0.038411,
     "end_time": "2022-04-25T18:29:33.466302",
     "exception": false,
     "start_time": "2022-04-25T18:29:33.427891",
     "status": "completed"
    },
    "tags": []
   },
   "outputs": [
    {
     "data": {
      "application/javascript": [
       "parent.postMessage({\"jupyterEvent\": \"custom.exercise_interaction\", \"data\": {\"outcomeType\": 1, \"valueTowardsCompletion\": 0.25, \"interactionType\": 1, \"questionType\": 2, \"questionId\": \"1_SetTarget\", \"learnToolsVersion\": \"0.3.4\", \"failureMessage\": \"\", \"exceptionClass\": \"\", \"trace\": \"\"}}, \"*\")"
      ],
      "text/plain": [
       "<IPython.core.display.Javascript object>"
      ]
     },
     "metadata": {},
     "output_type": "display_data"
    },
    {
     "data": {
      "text/markdown": [
       "<span style=\"color:#33cc33\">Correct</span>"
      ],
      "text/plain": [
       "Correct"
      ]
     },
     "metadata": {},
     "output_type": "display_data"
    }
   ],
   "source": [
    "y = home_data.SalePrice\n",
    "\n",
    "# Check your answer\n",
    "step_1.check()"
   ]
  },
  {
   "cell_type": "code",
   "execution_count": 4,
   "id": "9ea3a568",
   "metadata": {
    "execution": {
     "iopub.execute_input": "2022-04-25T18:29:33.509518Z",
     "iopub.status.busy": "2022-04-25T18:29:33.509090Z",
     "iopub.status.idle": "2022-04-25T18:29:33.544296Z",
     "shell.execute_reply": "2022-04-25T18:29:33.543641Z"
    },
    "papermill": {
     "duration": 0.059316,
     "end_time": "2022-04-25T18:29:33.546350",
     "exception": false,
     "start_time": "2022-04-25T18:29:33.487034",
     "status": "completed"
    },
    "tags": []
   },
   "outputs": [
    {
     "data": {
      "application/javascript": [
       "parent.postMessage({\"jupyterEvent\": \"custom.exercise_interaction\", \"data\": {\"interactionType\": 3, \"questionType\": 2, \"questionId\": \"1_SetTarget\", \"learnToolsVersion\": \"0.3.4\", \"valueTowardsCompletion\": 0.0, \"failureMessage\": \"\", \"exceptionClass\": \"\", \"trace\": \"\", \"outcomeType\": 4}}, \"*\")"
      ],
      "text/plain": [
       "<IPython.core.display.Javascript object>"
      ]
     },
     "metadata": {},
     "output_type": "display_data"
    },
    {
     "data": {
      "text/markdown": [
       "<span style=\"color:#33cc99\">Solution:</span> \n",
       "```python\n",
       "y = home_data.SalePrice\n",
       "```"
      ],
      "text/plain": [
       "Solution: \n",
       "```python\n",
       "y = home_data.SalePrice\n",
       "```"
      ]
     },
     "metadata": {},
     "output_type": "display_data"
    }
   ],
   "source": [
    "import pandas as pd\n",
    "\n",
    "# Path of the file to read\n",
    "iowa_file_path = '../input/home-data-for-ml-course/train.csv'\n",
    "\n",
    "home_data = pd.read_csv(iowa_file_path)\n",
    "\n",
    "# Set up code checking\n",
    "from learntools.core import binder\n",
    "binder.bind(globals())\n",
    "from learntools.machine_learning.ex3 import *\n",
    "\n",
    "#The lines below will show you a hint or the solution.\n",
    "# step_1.hint() \n",
    "step_1.solution()"
   ]
  },
  {
   "cell_type": "markdown",
   "id": "ef3d4552",
   "metadata": {
    "papermill": {
     "duration": 0.02107,
     "end_time": "2022-04-25T18:29:33.588995",
     "exception": false,
     "start_time": "2022-04-25T18:29:33.567925",
     "status": "completed"
    },
    "tags": []
   },
   "source": [
    "## Step 2: Create X\n",
    "Now you will create a DataFrame called `X` holding the predictive features.\n",
    "\n",
    "Since you want only some columns from the original data, you'll first create a list with the names of the columns you want in `X`.\n",
    "\n",
    "You'll use just the following columns in the list (you can copy and paste the whole list to save some typing, though you'll still need to add quotes):\n",
    "  * LotArea\n",
    "  * YearBuilt\n",
    "  * 1stFlrSF\n",
    "  * 2ndFlrSF\n",
    "  * FullBath\n",
    "  * BedroomAbvGr\n",
    "  * TotRmsAbvGrd\n",
    "\n",
    "After you've created that list of features, use it to create the DataFrame that you'll use to fit the model."
   ]
  },
  {
   "cell_type": "code",
   "execution_count": 5,
   "id": "3de0e923",
   "metadata": {
    "execution": {
     "iopub.execute_input": "2022-04-25T18:29:33.635518Z",
     "iopub.status.busy": "2022-04-25T18:29:33.634861Z",
     "iopub.status.idle": "2022-04-25T18:29:33.649938Z",
     "shell.execute_reply": "2022-04-25T18:29:33.648947Z"
    },
    "papermill": {
     "duration": 0.040397,
     "end_time": "2022-04-25T18:29:33.651987",
     "exception": false,
     "start_time": "2022-04-25T18:29:33.611590",
     "status": "completed"
    },
    "tags": []
   },
   "outputs": [
    {
     "data": {
      "application/javascript": [
       "parent.postMessage({\"jupyterEvent\": \"custom.exercise_interaction\", \"data\": {\"outcomeType\": 1, \"valueTowardsCompletion\": 0.25, \"interactionType\": 1, \"questionType\": 2, \"questionId\": \"2_SelectPredictionData\", \"learnToolsVersion\": \"0.3.4\", \"failureMessage\": \"\", \"exceptionClass\": \"\", \"trace\": \"\"}}, \"*\")"
      ],
      "text/plain": [
       "<IPython.core.display.Javascript object>"
      ]
     },
     "metadata": {},
     "output_type": "display_data"
    },
    {
     "data": {
      "text/markdown": [
       "<span style=\"color:#33cc33\">Correct</span>"
      ],
      "text/plain": [
       "Correct"
      ]
     },
     "metadata": {},
     "output_type": "display_data"
    }
   ],
   "source": [
    "# Create the list of features below\n",
    "feature_names = [\"LotArea\", \"YearBuilt\", \"1stFlrSF\", \"2ndFlrSF\",\n",
    "                      \"FullBath\", \"BedroomAbvGr\", \"TotRmsAbvGrd\"]\n",
    "\n",
    "# Select data corresponding to features in feature_names\n",
    "X = home_data[feature_names]\n",
    "\n",
    "# Check your answer\n",
    "step_2.check()"
   ]
  },
  {
   "cell_type": "code",
   "execution_count": 6,
   "id": "2d4c34e7",
   "metadata": {
    "execution": {
     "iopub.execute_input": "2022-04-25T18:29:33.699721Z",
     "iopub.status.busy": "2022-04-25T18:29:33.699391Z",
     "iopub.status.idle": "2022-04-25T18:29:33.706059Z",
     "shell.execute_reply": "2022-04-25T18:29:33.705155Z"
    },
    "papermill": {
     "duration": 0.032746,
     "end_time": "2022-04-25T18:29:33.708076",
     "exception": false,
     "start_time": "2022-04-25T18:29:33.675330",
     "status": "completed"
    },
    "tags": []
   },
   "outputs": [
    {
     "data": {
      "application/javascript": [
       "parent.postMessage({\"jupyterEvent\": \"custom.exercise_interaction\", \"data\": {\"interactionType\": 3, \"questionType\": 2, \"questionId\": \"2_SelectPredictionData\", \"learnToolsVersion\": \"0.3.4\", \"valueTowardsCompletion\": 0.0, \"failureMessage\": \"\", \"exceptionClass\": \"\", \"trace\": \"\", \"outcomeType\": 4}}, \"*\")"
      ],
      "text/plain": [
       "<IPython.core.display.Javascript object>"
      ]
     },
     "metadata": {},
     "output_type": "display_data"
    },
    {
     "data": {
      "text/markdown": [
       "<span style=\"color:#33cc99\">Solution:</span> \n",
       "```python\n",
       "feature_names = [\"LotArea\", \"YearBuilt\", \"1stFlrSF\", \"2ndFlrSF\",\n",
       "                      \"FullBath\", \"BedroomAbvGr\", \"TotRmsAbvGrd\"]\n",
       "\n",
       "X=home_data[feature_names]\n",
       "```"
      ],
      "text/plain": [
       "Solution: \n",
       "```python\n",
       "feature_names = [\"LotArea\", \"YearBuilt\", \"1stFlrSF\", \"2ndFlrSF\",\n",
       "                      \"FullBath\", \"BedroomAbvGr\", \"TotRmsAbvGrd\"]\n",
       "\n",
       "X=home_data[feature_names]\n",
       "```"
      ]
     },
     "metadata": {},
     "output_type": "display_data"
    }
   ],
   "source": [
    "# step_2.hint()\n",
    "step_2.solution()"
   ]
  },
  {
   "cell_type": "markdown",
   "id": "566d9ea9",
   "metadata": {
    "papermill": {
     "duration": 0.026757,
     "end_time": "2022-04-25T18:29:33.758903",
     "exception": false,
     "start_time": "2022-04-25T18:29:33.732146",
     "status": "completed"
    },
    "tags": []
   },
   "source": [
    "## Review Data\n",
    "Before building a model, take a quick look at **X** to verify it looks sensible"
   ]
  },
  {
   "cell_type": "code",
   "execution_count": 7,
   "id": "0ff25480",
   "metadata": {
    "collapsed": true,
    "execution": {
     "iopub.execute_input": "2022-04-25T18:29:33.809671Z",
     "iopub.status.busy": "2022-04-25T18:29:33.809080Z",
     "iopub.status.idle": "2022-04-25T18:29:33.813003Z",
     "shell.execute_reply": "2022-04-25T18:29:33.812216Z"
    },
    "jupyter": {
     "outputs_hidden": true
    },
    "papermill": {
     "duration": 0.031342,
     "end_time": "2022-04-25T18:29:33.815109",
     "exception": false,
     "start_time": "2022-04-25T18:29:33.783767",
     "status": "completed"
    },
    "tags": []
   },
   "outputs": [],
   "source": [
    "# Review data\n",
    "# print description or statistics from X\n",
    "#print(_)\n",
    "\n",
    "# print the top few lines\n",
    "#print(_)"
   ]
  },
  {
   "cell_type": "markdown",
   "id": "e517df59",
   "metadata": {
    "papermill": {
     "duration": 0.024895,
     "end_time": "2022-04-25T18:29:33.864293",
     "exception": false,
     "start_time": "2022-04-25T18:29:33.839398",
     "status": "completed"
    },
    "tags": []
   },
   "source": [
    "## Step 3: Specify and Fit Model\n",
    "Create a `DecisionTreeRegressor` and save it iowa_model. Ensure you've done the relevant import from sklearn to run this command.\n",
    "\n",
    "Then fit the model you just created using the data in `X` and `y` that you saved above."
   ]
  },
  {
   "cell_type": "code",
   "execution_count": 8,
   "id": "19a2e5a1",
   "metadata": {
    "execution": {
     "iopub.execute_input": "2022-04-25T18:29:33.915657Z",
     "iopub.status.busy": "2022-04-25T18:29:33.915108Z",
     "iopub.status.idle": "2022-04-25T18:29:33.932851Z",
     "shell.execute_reply": "2022-04-25T18:29:33.931872Z"
    },
    "papermill": {
     "duration": 0.04575,
     "end_time": "2022-04-25T18:29:33.934923",
     "exception": false,
     "start_time": "2022-04-25T18:29:33.889173",
     "status": "completed"
    },
    "tags": []
   },
   "outputs": [
    {
     "data": {
      "application/javascript": [
       "parent.postMessage({\"jupyterEvent\": \"custom.exercise_interaction\", \"data\": {\"outcomeType\": 1, \"valueTowardsCompletion\": 0.25, \"interactionType\": 1, \"questionType\": 2, \"questionId\": \"3_CreateModel\", \"learnToolsVersion\": \"0.3.4\", \"failureMessage\": \"\", \"exceptionClass\": \"\", \"trace\": \"\"}}, \"*\")"
      ],
      "text/plain": [
       "<IPython.core.display.Javascript object>"
      ]
     },
     "metadata": {},
     "output_type": "display_data"
    },
    {
     "data": {
      "text/markdown": [
       "<span style=\"color:#33cc33\">Correct</span>"
      ],
      "text/plain": [
       "Correct"
      ]
     },
     "metadata": {},
     "output_type": "display_data"
    }
   ],
   "source": [
    "# from _ import _\n",
    "#specify the model. \n",
    "#For model reproducibility, set a numeric value for random_state when specifying the model\n",
    "from sklearn.tree import DecisionTreeRegressor\n",
    "iowa_model = DecisionTreeRegressor(random_state=1)\n",
    "iowa_model.fit(X, y)\n",
    "step_3.check()"
   ]
  },
  {
   "cell_type": "code",
   "execution_count": 9,
   "id": "3a3f3cba",
   "metadata": {
    "execution": {
     "iopub.execute_input": "2022-04-25T18:29:33.988321Z",
     "iopub.status.busy": "2022-04-25T18:29:33.987727Z",
     "iopub.status.idle": "2022-04-25T18:29:33.994200Z",
     "shell.execute_reply": "2022-04-25T18:29:33.993608Z"
    },
    "papermill": {
     "duration": 0.035841,
     "end_time": "2022-04-25T18:29:33.996121",
     "exception": false,
     "start_time": "2022-04-25T18:29:33.960280",
     "status": "completed"
    },
    "tags": []
   },
   "outputs": [
    {
     "data": {
      "application/javascript": [
       "parent.postMessage({\"jupyterEvent\": \"custom.exercise_interaction\", \"data\": {\"interactionType\": 3, \"questionType\": 2, \"questionId\": \"3_CreateModel\", \"learnToolsVersion\": \"0.3.4\", \"valueTowardsCompletion\": 0.0, \"failureMessage\": \"\", \"exceptionClass\": \"\", \"trace\": \"\", \"outcomeType\": 4}}, \"*\")"
      ],
      "text/plain": [
       "<IPython.core.display.Javascript object>"
      ]
     },
     "metadata": {},
     "output_type": "display_data"
    },
    {
     "data": {
      "text/markdown": [
       "<span style=\"color:#33cc99\">Solution:</span> \n",
       "```python\n",
       "from sklearn.tree import DecisionTreeRegressor\n",
       "iowa_model = DecisionTreeRegressor(random_state=1)\n",
       "iowa_model.fit(X, y)\n",
       "```"
      ],
      "text/plain": [
       "Solution: \n",
       "```python\n",
       "from sklearn.tree import DecisionTreeRegressor\n",
       "iowa_model = DecisionTreeRegressor(random_state=1)\n",
       "iowa_model.fit(X, y)\n",
       "```"
      ]
     },
     "metadata": {},
     "output_type": "display_data"
    }
   ],
   "source": [
    "# step_3.hint()\n",
    "step_3.solution()"
   ]
  },
  {
   "cell_type": "markdown",
   "id": "60d8855c",
   "metadata": {
    "papermill": {
     "duration": 0.02638,
     "end_time": "2022-04-25T18:29:34.050308",
     "exception": false,
     "start_time": "2022-04-25T18:29:34.023928",
     "status": "completed"
    },
    "tags": []
   },
   "source": [
    "## Step 4: Make Predictions\n",
    "Make predictions with the model's `predict` command using `X` as the data. Save the results to a variable called `predictions`."
   ]
  },
  {
   "cell_type": "code",
   "execution_count": 10,
   "id": "9e35afbb",
   "metadata": {
    "execution": {
     "iopub.execute_input": "2022-04-25T18:29:34.108705Z",
     "iopub.status.busy": "2022-04-25T18:29:34.108385Z",
     "iopub.status.idle": "2022-04-25T18:29:34.120615Z",
     "shell.execute_reply": "2022-04-25T18:29:34.120004Z"
    },
    "papermill": {
     "duration": 0.043445,
     "end_time": "2022-04-25T18:29:34.122607",
     "exception": false,
     "start_time": "2022-04-25T18:29:34.079162",
     "status": "completed"
    },
    "tags": []
   },
   "outputs": [
    {
     "name": "stdout",
     "output_type": "stream",
     "text": [
      "[208500. 181500. 223500. ... 266500. 142125. 147500.]\n"
     ]
    },
    {
     "data": {
      "application/javascript": [
       "parent.postMessage({\"jupyterEvent\": \"custom.exercise_interaction\", \"data\": {\"outcomeType\": 1, \"valueTowardsCompletion\": 0.25, \"interactionType\": 1, \"questionType\": 2, \"questionId\": \"4_MakePredictions\", \"learnToolsVersion\": \"0.3.4\", \"failureMessage\": \"\", \"exceptionClass\": \"\", \"trace\": \"\"}}, \"*\")"
      ],
      "text/plain": [
       "<IPython.core.display.Javascript object>"
      ]
     },
     "metadata": {},
     "output_type": "display_data"
    },
    {
     "data": {
      "text/markdown": [
       "<span style=\"color:#33cc33\">Correct</span>"
      ],
      "text/plain": [
       "Correct"
      ]
     },
     "metadata": {},
     "output_type": "display_data"
    }
   ],
   "source": [
    "predictions = iowa_model.predict(X)\n",
    "print(predictions)\n",
    "\n",
    "# Check your answer\n",
    "step_4.check()"
   ]
  },
  {
   "cell_type": "code",
   "execution_count": 11,
   "id": "fd127bc1",
   "metadata": {
    "execution": {
     "iopub.execute_input": "2022-04-25T18:29:34.180712Z",
     "iopub.status.busy": "2022-04-25T18:29:34.179988Z",
     "iopub.status.idle": "2022-04-25T18:29:34.188130Z",
     "shell.execute_reply": "2022-04-25T18:29:34.187364Z"
    },
    "papermill": {
     "duration": 0.03951,
     "end_time": "2022-04-25T18:29:34.190250",
     "exception": false,
     "start_time": "2022-04-25T18:29:34.150740",
     "status": "completed"
    },
    "tags": []
   },
   "outputs": [
    {
     "data": {
      "application/javascript": [
       "parent.postMessage({\"jupyterEvent\": \"custom.exercise_interaction\", \"data\": {\"interactionType\": 3, \"questionType\": 2, \"questionId\": \"4_MakePredictions\", \"learnToolsVersion\": \"0.3.4\", \"valueTowardsCompletion\": 0.0, \"failureMessage\": \"\", \"exceptionClass\": \"\", \"trace\": \"\", \"outcomeType\": 4}}, \"*\")"
      ],
      "text/plain": [
       "<IPython.core.display.Javascript object>"
      ]
     },
     "metadata": {},
     "output_type": "display_data"
    },
    {
     "data": {
      "text/markdown": [
       "<span style=\"color:#33cc99\">Solution:</span> \n",
       "```python\n",
       "iowa_model.predict(X)\n",
       "```"
      ],
      "text/plain": [
       "Solution: \n",
       "```python\n",
       "iowa_model.predict(X)\n",
       "```"
      ]
     },
     "metadata": {},
     "output_type": "display_data"
    }
   ],
   "source": [
    "# step_4.hint()\n",
    "step_4.solution()"
   ]
  },
  {
   "cell_type": "markdown",
   "id": "8a42b462",
   "metadata": {
    "papermill": {
     "duration": 0.028931,
     "end_time": "2022-04-25T18:29:34.251420",
     "exception": false,
     "start_time": "2022-04-25T18:29:34.222489",
     "status": "completed"
    },
    "tags": []
   },
   "source": [
    "## Think About Your Results\n",
    "\n",
    "Use the `head` method to compare the top few predictions to the actual home values (in `y`) for those same homes. Anything surprising?\n"
   ]
  },
  {
   "cell_type": "code",
   "execution_count": 12,
   "id": "4f146cf4",
   "metadata": {
    "execution": {
     "iopub.execute_input": "2022-04-25T18:29:34.312930Z",
     "iopub.status.busy": "2022-04-25T18:29:34.312630Z",
     "iopub.status.idle": "2022-04-25T18:29:34.316828Z",
     "shell.execute_reply": "2022-04-25T18:29:34.315860Z"
    },
    "papermill": {
     "duration": 0.036983,
     "end_time": "2022-04-25T18:29:34.318966",
     "exception": false,
     "start_time": "2022-04-25T18:29:34.281983",
     "status": "completed"
    },
    "tags": []
   },
   "outputs": [],
   "source": [
    "# You can write code in this cell\n"
   ]
  },
  {
   "cell_type": "markdown",
   "id": "2cd487b9",
   "metadata": {
    "papermill": {
     "duration": 0.029232,
     "end_time": "2022-04-25T18:29:34.379235",
     "exception": false,
     "start_time": "2022-04-25T18:29:34.350003",
     "status": "completed"
    },
    "tags": []
   },
   "source": [
    "It's natural to ask how accurate the model's predictions will be and how you can improve that. That will be you're next step.\n",
    "\n",
    "# Keep Going\n",
    "\n",
    "You are ready for **[Model Validation](https://www.kaggle.com/dansbecker/model-validation).**\n"
   ]
  },
  {
   "cell_type": "markdown",
   "id": "b368d61a",
   "metadata": {
    "papermill": {
     "duration": 0.029971,
     "end_time": "2022-04-25T18:29:34.439402",
     "exception": false,
     "start_time": "2022-04-25T18:29:34.409431",
     "status": "completed"
    },
    "tags": []
   },
   "source": [
    "---\n",
    "\n",
    "\n",
    "\n",
    "\n",
    "*Have questions or comments? Visit the [course discussion forum](https://www.kaggle.com/learn/intro-to-machine-learning/discussion) to chat with other learners.*"
   ]
  }
 ],
 "metadata": {
  "kernelspec": {
   "display_name": "Python 3",
   "language": "python",
   "name": "python3"
  },
  "language_info": {
   "codemirror_mode": {
    "name": "ipython",
    "version": 3
   },
   "file_extension": ".py",
   "mimetype": "text/x-python",
   "name": "python",
   "nbconvert_exporter": "python",
   "pygments_lexer": "ipython3",
   "version": "3.7.12"
  },
  "papermill": {
   "default_parameters": {},
   "duration": 14.788478,
   "end_time": "2022-04-25T18:29:35.292099",
   "environment_variables": {},
   "exception": null,
   "input_path": "__notebook__.ipynb",
   "output_path": "__notebook__.ipynb",
   "parameters": {},
   "start_time": "2022-04-25T18:29:20.503621",
   "version": "2.3.4"
  }
 },
 "nbformat": 4,
 "nbformat_minor": 5
}
